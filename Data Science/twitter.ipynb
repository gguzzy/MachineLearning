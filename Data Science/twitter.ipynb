{
 "cells": [
  {
   "cell_type": "code",
   "execution_count": 1,
   "metadata": {
    "id": "kYwviJFmm79o"
   },
   "outputs": [],
   "source": [
    "import numpy as np\n",
    "import pandas as pd\n",
    "import matplotlib.pyplot as plt\n",
    "import seaborn as sns\n",
    "from sklearn.preprocessing import StandardScaler\n",
    "from sklearn.metrics import plot_confusion_matrix\n",
    "from sklearn.decomposition import PCA\n",
    "from sklearn.model_selection import train_test_split\n",
    "from sklearn.model_selection import cross_val_score\n",
    "from sklearn.svm import SVR\n",
    "from sklearn.model_selection import GridSearchCV\n",
    "from sklearn.metrics import mean_absolute_error\n",
    "from sklearn.ensemble import GradientBoostingRegressor\n",
    "from sklearn.feature_selection import SelectKBest, chi2\n",
    "np.random.seed(45)\n",
    "\n",
    "\n",
    "import re\n",
    "import nltk\n",
    "from sklearn.feature_extraction.text import TfidfVectorizer\n",
    "from nltk.tokenize import TweetTokenizer\n",
    "from nltk.corpus import stopwords\n",
    "from nltk.stem.snowball import SnowballStemmer\n",
    "\n",
    "from xgboost import XGBClassifier\n",
    "\n",
    "\n",
    "\n",
    "\n",
    "\n",
    "from sklearn.ensemble import RandomForestClassifier\n",
    "from sklearn.linear_model import LogisticRegression\n",
    "from sklearn.svm import LinearSVC\n",
    "from sklearn.metrics import f1_score\n",
    "from sklearn.model_selection import cross_val_predict\n",
    "from sklearn.model_selection import cross_val_score\n",
    "from sklearn import svm\n",
    "\n",
    "\n",
    "from spellchecker import SpellChecker\n",
    "import itertools\n",
    " "
   ]
  },
  {
   "cell_type": "code",
   "execution_count": 2,
   "metadata": {
    "colab": {
     "base_uri": "https://localhost:8080/",
     "height": 423
    },
    "id": "FQddUMZjm9gQ",
    "outputId": "f4199179-b1fc-462b-d4ce-2609254763ac"
   },
   "outputs": [
    {
     "data": {
      "text/html": [
       "<div>\n",
       "<style scoped>\n",
       "    .dataframe tbody tr th:only-of-type {\n",
       "        vertical-align: middle;\n",
       "    }\n",
       "\n",
       "    .dataframe tbody tr th {\n",
       "        vertical-align: top;\n",
       "    }\n",
       "\n",
       "    .dataframe thead th {\n",
       "        text-align: right;\n",
       "    }\n",
       "</style>\n",
       "<table border=\"1\" class=\"dataframe\">\n",
       "  <thead>\n",
       "    <tr style=\"text-align: right;\">\n",
       "      <th></th>\n",
       "      <th>sentiment</th>\n",
       "      <th>ids</th>\n",
       "      <th>date</th>\n",
       "      <th>flag</th>\n",
       "      <th>user</th>\n",
       "      <th>text</th>\n",
       "    </tr>\n",
       "  </thead>\n",
       "  <tbody>\n",
       "    <tr>\n",
       "      <th>0</th>\n",
       "      <td>1</td>\n",
       "      <td>1833972543</td>\n",
       "      <td>Mon May 18 01:08:27 PDT 2009</td>\n",
       "      <td>NO_QUERY</td>\n",
       "      <td>Killandra</td>\n",
       "      <td>@MissBianca76 Yes, talking helps a lot.. going...</td>\n",
       "    </tr>\n",
       "    <tr>\n",
       "      <th>1</th>\n",
       "      <td>1</td>\n",
       "      <td>1980318193</td>\n",
       "      <td>Sun May 31 06:23:17 PDT 2009</td>\n",
       "      <td>NO_QUERY</td>\n",
       "      <td>IMlisacowan</td>\n",
       "      <td>SUNSHINE. livingg itttt. imma lie on the grass...</td>\n",
       "    </tr>\n",
       "    <tr>\n",
       "      <th>2</th>\n",
       "      <td>1</td>\n",
       "      <td>1994409198</td>\n",
       "      <td>Mon Jun 01 11:52:54 PDT 2009</td>\n",
       "      <td>NO_QUERY</td>\n",
       "      <td>yaseminx3</td>\n",
       "      <td>@PleaseBeMine Something for your iphone</td>\n",
       "    </tr>\n",
       "    <tr>\n",
       "      <th>3</th>\n",
       "      <td>0</td>\n",
       "      <td>1824749377</td>\n",
       "      <td>Sun May 17 02:45:34 PDT 2009</td>\n",
       "      <td>NO_QUERY</td>\n",
       "      <td>no_surprises</td>\n",
       "      <td>@GabrielSaporta couldn't get in to the after p...</td>\n",
       "    </tr>\n",
       "    <tr>\n",
       "      <th>4</th>\n",
       "      <td>0</td>\n",
       "      <td>2001199113</td>\n",
       "      <td>Tue Jun 02 00:08:07 PDT 2009</td>\n",
       "      <td>NO_QUERY</td>\n",
       "      <td>Rhi_ShortStack</td>\n",
       "      <td>@bradiewebbstack awww is andy being mean again...</td>\n",
       "    </tr>\n",
       "    <tr>\n",
       "      <th>...</th>\n",
       "      <td>...</td>\n",
       "      <td>...</td>\n",
       "      <td>...</td>\n",
       "      <td>...</td>\n",
       "      <td>...</td>\n",
       "      <td>...</td>\n",
       "    </tr>\n",
       "    <tr>\n",
       "      <th>224989</th>\n",
       "      <td>0</td>\n",
       "      <td>2261324310</td>\n",
       "      <td>Sat Jun 20 20:36:48 PDT 2009</td>\n",
       "      <td>NO_QUERY</td>\n",
       "      <td>CynthiaBuroughs</td>\n",
       "      <td>@Dropsofreign yeah I hope Iran people reach fr...</td>\n",
       "    </tr>\n",
       "    <tr>\n",
       "      <th>224990</th>\n",
       "      <td>1</td>\n",
       "      <td>1989408152</td>\n",
       "      <td>Mon Jun 01 01:25:45 PDT 2009</td>\n",
       "      <td>NO_QUERY</td>\n",
       "      <td>unitechy</td>\n",
       "      <td>Trying the qwerty keypad</td>\n",
       "    </tr>\n",
       "    <tr>\n",
       "      <th>224991</th>\n",
       "      <td>0</td>\n",
       "      <td>1991221316</td>\n",
       "      <td>Mon Jun 01 06:38:10 PDT 2009</td>\n",
       "      <td>NO_QUERY</td>\n",
       "      <td>Xaan</td>\n",
       "      <td>I love Jasper &amp;amp; Jackson but that wig in th...</td>\n",
       "    </tr>\n",
       "    <tr>\n",
       "      <th>224992</th>\n",
       "      <td>0</td>\n",
       "      <td>2239702807</td>\n",
       "      <td>Fri Jun 19 08:51:56 PDT 2009</td>\n",
       "      <td>NO_QUERY</td>\n",
       "      <td>Ginger_Billie</td>\n",
       "      <td>I am really tired and bored and bleh! I feel c...</td>\n",
       "    </tr>\n",
       "    <tr>\n",
       "      <th>224993</th>\n",
       "      <td>1</td>\n",
       "      <td>2016018811</td>\n",
       "      <td>Wed Jun 03 06:00:29 PDT 2009</td>\n",
       "      <td>NO_QUERY</td>\n",
       "      <td>kevin_choo</td>\n",
       "      <td>@alyshatan good luck!! It sounds interesting t...</td>\n",
       "    </tr>\n",
       "  </tbody>\n",
       "</table>\n",
       "<p>224994 rows × 6 columns</p>\n",
       "</div>"
      ],
      "text/plain": [
       "        sentiment         ids                          date      flag  \\\n",
       "0               1  1833972543  Mon May 18 01:08:27 PDT 2009  NO_QUERY   \n",
       "1               1  1980318193  Sun May 31 06:23:17 PDT 2009  NO_QUERY   \n",
       "2               1  1994409198  Mon Jun 01 11:52:54 PDT 2009  NO_QUERY   \n",
       "3               0  1824749377  Sun May 17 02:45:34 PDT 2009  NO_QUERY   \n",
       "4               0  2001199113  Tue Jun 02 00:08:07 PDT 2009  NO_QUERY   \n",
       "...           ...         ...                           ...       ...   \n",
       "224989          0  2261324310  Sat Jun 20 20:36:48 PDT 2009  NO_QUERY   \n",
       "224990          1  1989408152  Mon Jun 01 01:25:45 PDT 2009  NO_QUERY   \n",
       "224991          0  1991221316  Mon Jun 01 06:38:10 PDT 2009  NO_QUERY   \n",
       "224992          0  2239702807  Fri Jun 19 08:51:56 PDT 2009  NO_QUERY   \n",
       "224993          1  2016018811  Wed Jun 03 06:00:29 PDT 2009  NO_QUERY   \n",
       "\n",
       "                   user                                               text  \n",
       "0             Killandra  @MissBianca76 Yes, talking helps a lot.. going...  \n",
       "1           IMlisacowan  SUNSHINE. livingg itttt. imma lie on the grass...  \n",
       "2             yaseminx3           @PleaseBeMine Something for your iphone   \n",
       "3          no_surprises  @GabrielSaporta couldn't get in to the after p...  \n",
       "4        Rhi_ShortStack  @bradiewebbstack awww is andy being mean again...  \n",
       "...                 ...                                                ...  \n",
       "224989  CynthiaBuroughs  @Dropsofreign yeah I hope Iran people reach fr...  \n",
       "224990         unitechy                          Trying the qwerty keypad   \n",
       "224991             Xaan  I love Jasper &amp; Jackson but that wig in th...  \n",
       "224992    Ginger_Billie  I am really tired and bored and bleh! I feel c...  \n",
       "224993       kevin_choo  @alyshatan good luck!! It sounds interesting t...  \n",
       "\n",
       "[224994 rows x 6 columns]"
      ]
     },
     "execution_count": 2,
     "metadata": {},
     "output_type": "execute_result"
    }
   ],
   "source": [
    "train_df= pd.read_csv('development.csv', sep=',')\n",
    "test_df=pd.read_csv('evaluation.csv', sep=',')\n",
    "train_df"
   ]
  },
  {
   "cell_type": "markdown",
   "metadata": {
    "id": "1Z8_drT9C5aG"
   },
   "source": [
    "##Null entries check"
   ]
  },
  {
   "cell_type": "code",
   "execution_count": 3,
   "metadata": {
    "colab": {
     "base_uri": "https://localhost:8080/"
    },
    "id": "HETGgytg8xCW",
    "outputId": "2c331996-c9f0-46f9-9a1c-3805e8f2f76a"
   },
   "outputs": [
    {
     "name": "stdout",
     "output_type": "stream",
     "text": [
      "False\n",
      "False\n"
     ]
    }
   ],
   "source": [
    "print(train_df.isnull().values.any())\n",
    "print(test_df.isnull().values.any())\n",
    "\n"
   ]
  },
  {
   "cell_type": "markdown",
   "metadata": {
    "id": "E_X6nq1grlh_"
   },
   "source": [
    "#check unuseful columns"
   ]
  },
  {
   "cell_type": "code",
   "execution_count": 4,
   "metadata": {
    "colab": {
     "base_uri": "https://localhost:8080/",
     "height": 460
    },
    "id": "u8_trGA1rqPj",
    "outputId": "79c40618-9dec-4b05-d378-0c1c6bf62c72"
   },
   "outputs": [
    {
     "name": "stdout",
     "output_type": "stream",
     "text": [
      "['NO_QUERY']\n",
      "['NO_QUERY']\n"
     ]
    },
    {
     "data": {
      "text/html": [
       "<div>\n",
       "<style scoped>\n",
       "    .dataframe tbody tr th:only-of-type {\n",
       "        vertical-align: middle;\n",
       "    }\n",
       "\n",
       "    .dataframe tbody tr th {\n",
       "        vertical-align: top;\n",
       "    }\n",
       "\n",
       "    .dataframe thead th {\n",
       "        text-align: right;\n",
       "    }\n",
       "</style>\n",
       "<table border=\"1\" class=\"dataframe\">\n",
       "  <thead>\n",
       "    <tr style=\"text-align: right;\">\n",
       "      <th></th>\n",
       "      <th>sentiment</th>\n",
       "      <th>ids</th>\n",
       "      <th>date</th>\n",
       "      <th>user</th>\n",
       "      <th>text</th>\n",
       "    </tr>\n",
       "  </thead>\n",
       "  <tbody>\n",
       "    <tr>\n",
       "      <th>0</th>\n",
       "      <td>1</td>\n",
       "      <td>1833972543</td>\n",
       "      <td>Mon May 18 01:08:27 PDT 2009</td>\n",
       "      <td>Killandra</td>\n",
       "      <td>@MissBianca76 Yes, talking helps a lot.. going...</td>\n",
       "    </tr>\n",
       "    <tr>\n",
       "      <th>1</th>\n",
       "      <td>1</td>\n",
       "      <td>1980318193</td>\n",
       "      <td>Sun May 31 06:23:17 PDT 2009</td>\n",
       "      <td>IMlisacowan</td>\n",
       "      <td>SUNSHINE. livingg itttt. imma lie on the grass...</td>\n",
       "    </tr>\n",
       "    <tr>\n",
       "      <th>2</th>\n",
       "      <td>1</td>\n",
       "      <td>1994409198</td>\n",
       "      <td>Mon Jun 01 11:52:54 PDT 2009</td>\n",
       "      <td>yaseminx3</td>\n",
       "      <td>@PleaseBeMine Something for your iphone</td>\n",
       "    </tr>\n",
       "    <tr>\n",
       "      <th>3</th>\n",
       "      <td>0</td>\n",
       "      <td>1824749377</td>\n",
       "      <td>Sun May 17 02:45:34 PDT 2009</td>\n",
       "      <td>no_surprises</td>\n",
       "      <td>@GabrielSaporta couldn't get in to the after p...</td>\n",
       "    </tr>\n",
       "    <tr>\n",
       "      <th>4</th>\n",
       "      <td>0</td>\n",
       "      <td>2001199113</td>\n",
       "      <td>Tue Jun 02 00:08:07 PDT 2009</td>\n",
       "      <td>Rhi_ShortStack</td>\n",
       "      <td>@bradiewebbstack awww is andy being mean again...</td>\n",
       "    </tr>\n",
       "    <tr>\n",
       "      <th>...</th>\n",
       "      <td>...</td>\n",
       "      <td>...</td>\n",
       "      <td>...</td>\n",
       "      <td>...</td>\n",
       "      <td>...</td>\n",
       "    </tr>\n",
       "    <tr>\n",
       "      <th>224989</th>\n",
       "      <td>0</td>\n",
       "      <td>2261324310</td>\n",
       "      <td>Sat Jun 20 20:36:48 PDT 2009</td>\n",
       "      <td>CynthiaBuroughs</td>\n",
       "      <td>@Dropsofreign yeah I hope Iran people reach fr...</td>\n",
       "    </tr>\n",
       "    <tr>\n",
       "      <th>224990</th>\n",
       "      <td>1</td>\n",
       "      <td>1989408152</td>\n",
       "      <td>Mon Jun 01 01:25:45 PDT 2009</td>\n",
       "      <td>unitechy</td>\n",
       "      <td>Trying the qwerty keypad</td>\n",
       "    </tr>\n",
       "    <tr>\n",
       "      <th>224991</th>\n",
       "      <td>0</td>\n",
       "      <td>1991221316</td>\n",
       "      <td>Mon Jun 01 06:38:10 PDT 2009</td>\n",
       "      <td>Xaan</td>\n",
       "      <td>I love Jasper &amp;amp; Jackson but that wig in th...</td>\n",
       "    </tr>\n",
       "    <tr>\n",
       "      <th>224992</th>\n",
       "      <td>0</td>\n",
       "      <td>2239702807</td>\n",
       "      <td>Fri Jun 19 08:51:56 PDT 2009</td>\n",
       "      <td>Ginger_Billie</td>\n",
       "      <td>I am really tired and bored and bleh! I feel c...</td>\n",
       "    </tr>\n",
       "    <tr>\n",
       "      <th>224993</th>\n",
       "      <td>1</td>\n",
       "      <td>2016018811</td>\n",
       "      <td>Wed Jun 03 06:00:29 PDT 2009</td>\n",
       "      <td>kevin_choo</td>\n",
       "      <td>@alyshatan good luck!! It sounds interesting t...</td>\n",
       "    </tr>\n",
       "  </tbody>\n",
       "</table>\n",
       "<p>224994 rows × 5 columns</p>\n",
       "</div>"
      ],
      "text/plain": [
       "        sentiment         ids                          date             user  \\\n",
       "0               1  1833972543  Mon May 18 01:08:27 PDT 2009        Killandra   \n",
       "1               1  1980318193  Sun May 31 06:23:17 PDT 2009      IMlisacowan   \n",
       "2               1  1994409198  Mon Jun 01 11:52:54 PDT 2009        yaseminx3   \n",
       "3               0  1824749377  Sun May 17 02:45:34 PDT 2009     no_surprises   \n",
       "4               0  2001199113  Tue Jun 02 00:08:07 PDT 2009   Rhi_ShortStack   \n",
       "...           ...         ...                           ...              ...   \n",
       "224989          0  2261324310  Sat Jun 20 20:36:48 PDT 2009  CynthiaBuroughs   \n",
       "224990          1  1989408152  Mon Jun 01 01:25:45 PDT 2009         unitechy   \n",
       "224991          0  1991221316  Mon Jun 01 06:38:10 PDT 2009             Xaan   \n",
       "224992          0  2239702807  Fri Jun 19 08:51:56 PDT 2009    Ginger_Billie   \n",
       "224993          1  2016018811  Wed Jun 03 06:00:29 PDT 2009       kevin_choo   \n",
       "\n",
       "                                                     text  \n",
       "0       @MissBianca76 Yes, talking helps a lot.. going...  \n",
       "1       SUNSHINE. livingg itttt. imma lie on the grass...  \n",
       "2                @PleaseBeMine Something for your iphone   \n",
       "3       @GabrielSaporta couldn't get in to the after p...  \n",
       "4       @bradiewebbstack awww is andy being mean again...  \n",
       "...                                                   ...  \n",
       "224989  @Dropsofreign yeah I hope Iran people reach fr...  \n",
       "224990                          Trying the qwerty keypad   \n",
       "224991  I love Jasper &amp; Jackson but that wig in th...  \n",
       "224992  I am really tired and bored and bleh! I feel c...  \n",
       "224993  @alyshatan good luck!! It sounds interesting t...  \n",
       "\n",
       "[224994 rows x 5 columns]"
      ]
     },
     "execution_count": 4,
     "metadata": {},
     "output_type": "execute_result"
    }
   ],
   "source": [
    "print(train_df.flag.unique())\n",
    "print(test_df.flag.unique())\n",
    "\n",
    "\n",
    "train_df=train_df.drop(columns=['flag'])\n",
    "test_df=test_df.drop(columns=['flag'])\n",
    "\n",
    "train_df"
   ]
  },
  {
   "cell_type": "markdown",
   "metadata": {
    "id": "5hD5hNHl6Xrt"
   },
   "source": [
    "##Removing rows containing unreadable characters\n"
   ]
  },
  {
   "cell_type": "markdown",
   "metadata": {
    "id": "eLZFIEW1Xi4j"
   },
   "source": [
    "##Dropping unuseful columns\n"
   ]
  },
  {
   "cell_type": "code",
   "execution_count": 5,
   "metadata": {
    "colab": {
     "base_uri": "https://localhost:8080/",
     "height": 423
    },
    "id": "ze1xs1D5XjqS",
    "outputId": "fcb3f5c4-0d6c-4949-fa75-dab2a04047d7"
   },
   "outputs": [
    {
     "data": {
      "text/html": [
       "<div>\n",
       "<style scoped>\n",
       "    .dataframe tbody tr th:only-of-type {\n",
       "        vertical-align: middle;\n",
       "    }\n",
       "\n",
       "    .dataframe tbody tr th {\n",
       "        vertical-align: top;\n",
       "    }\n",
       "\n",
       "    .dataframe thead th {\n",
       "        text-align: right;\n",
       "    }\n",
       "</style>\n",
       "<table border=\"1\" class=\"dataframe\">\n",
       "  <thead>\n",
       "    <tr style=\"text-align: right;\">\n",
       "      <th></th>\n",
       "      <th>sentiment</th>\n",
       "      <th>text</th>\n",
       "    </tr>\n",
       "  </thead>\n",
       "  <tbody>\n",
       "    <tr>\n",
       "      <th>0</th>\n",
       "      <td>1</td>\n",
       "      <td>@MissBianca76 Yes, talking helps a lot.. going...</td>\n",
       "    </tr>\n",
       "    <tr>\n",
       "      <th>1</th>\n",
       "      <td>1</td>\n",
       "      <td>SUNSHINE. livingg itttt. imma lie on the grass...</td>\n",
       "    </tr>\n",
       "    <tr>\n",
       "      <th>2</th>\n",
       "      <td>1</td>\n",
       "      <td>@PleaseBeMine Something for your iphone</td>\n",
       "    </tr>\n",
       "    <tr>\n",
       "      <th>3</th>\n",
       "      <td>0</td>\n",
       "      <td>@GabrielSaporta couldn't get in to the after p...</td>\n",
       "    </tr>\n",
       "    <tr>\n",
       "      <th>4</th>\n",
       "      <td>0</td>\n",
       "      <td>@bradiewebbstack awww is andy being mean again...</td>\n",
       "    </tr>\n",
       "    <tr>\n",
       "      <th>...</th>\n",
       "      <td>...</td>\n",
       "      <td>...</td>\n",
       "    </tr>\n",
       "    <tr>\n",
       "      <th>224989</th>\n",
       "      <td>0</td>\n",
       "      <td>@Dropsofreign yeah I hope Iran people reach fr...</td>\n",
       "    </tr>\n",
       "    <tr>\n",
       "      <th>224990</th>\n",
       "      <td>1</td>\n",
       "      <td>Trying the qwerty keypad</td>\n",
       "    </tr>\n",
       "    <tr>\n",
       "      <th>224991</th>\n",
       "      <td>0</td>\n",
       "      <td>I love Jasper &amp;amp; Jackson but that wig in th...</td>\n",
       "    </tr>\n",
       "    <tr>\n",
       "      <th>224992</th>\n",
       "      <td>0</td>\n",
       "      <td>I am really tired and bored and bleh! I feel c...</td>\n",
       "    </tr>\n",
       "    <tr>\n",
       "      <th>224993</th>\n",
       "      <td>1</td>\n",
       "      <td>@alyshatan good luck!! It sounds interesting t...</td>\n",
       "    </tr>\n",
       "  </tbody>\n",
       "</table>\n",
       "<p>224994 rows × 2 columns</p>\n",
       "</div>"
      ],
      "text/plain": [
       "        sentiment                                               text\n",
       "0               1  @MissBianca76 Yes, talking helps a lot.. going...\n",
       "1               1  SUNSHINE. livingg itttt. imma lie on the grass...\n",
       "2               1           @PleaseBeMine Something for your iphone \n",
       "3               0  @GabrielSaporta couldn't get in to the after p...\n",
       "4               0  @bradiewebbstack awww is andy being mean again...\n",
       "...           ...                                                ...\n",
       "224989          0  @Dropsofreign yeah I hope Iran people reach fr...\n",
       "224990          1                          Trying the qwerty keypad \n",
       "224991          0  I love Jasper &amp; Jackson but that wig in th...\n",
       "224992          0  I am really tired and bored and bleh! I feel c...\n",
       "224993          1  @alyshatan good luck!! It sounds interesting t...\n",
       "\n",
       "[224994 rows x 2 columns]"
      ]
     },
     "execution_count": 5,
     "metadata": {},
     "output_type": "execute_result"
    }
   ],
   "source": [
    "train_df=train_df.drop(columns=['ids','date','user'])\n",
    "test_df=test_df.drop(columns=['ids','date','user'])\n",
    "\n",
    "train_df"
   ]
  },
  {
   "cell_type": "markdown",
   "metadata": {
    "id": "C3ZVuhHM6eEv"
   },
   "source": [
    "##Counting the number of positive and negative reviews"
   ]
  },
  {
   "cell_type": "code",
   "execution_count": 6,
   "metadata": {
    "colab": {
     "base_uri": "https://localhost:8080/"
    },
    "id": "bSZcSeAetDOl",
    "outputId": "a379fde8-922d-49fd-c0ae-ba21799c0747"
   },
   "outputs": [
    {
     "name": "stdout",
     "output_type": "stream",
     "text": [
      "number of positive sentiment entries is:130157\n",
      "number of negative sentiment entries is:94837\n"
     ]
    }
   ],
   "source": [
    "positive_tw = train_df.loc[(train_df['sentiment']==1),:].shape[0]\n",
    "negative_tw = train_df.loc[(train_df['sentiment']==0),:].shape[0]\n",
    "\n",
    "print('number of positive sentiment entries is:{}'.format(str(positive_tw)))\n",
    "print('number of negative sentiment entries is:{}'.format(str(negative_tw)))\n",
    "\n"
   ]
  },
  {
   "cell_type": "markdown",
   "metadata": {
    "id": "qu8jWavX3hQX"
   },
   "source": [
    "##Print the most frequent word\n",
    "\n"
   ]
  },
  {
   "cell_type": "code",
   "execution_count": 7,
   "metadata": {
    "colab": {
     "base_uri": "https://localhost:8080/",
     "height": 607
    },
    "id": "00d51Lxa3mgY",
    "outputId": "6f7710f0-7be8-4ec7-901c-6aea7b46b7ba"
   },
   "outputs": [
    {
     "data": {
      "image/png": "[encoded data removed]",
      "text/plain": [
       "<Figure size 720x720 with 1 Axes>"
      ]
     },
     "metadata": {
      "needs_background": "light"
     },
     "output_type": "display_data"
    }
   ],
   "source": [
    "entries = pd.Series(\" \".join(train_df['text']).lower().split()).value_counts()\n",
    "\n",
    "most_freq_num= 20\n",
    "\n",
    "fig, ax = plt.subplots(figsize=(10, 10))\n",
    "ax.barh(entries.index[:most_freq_num], entries[:most_freq_num], align='center',color='green')\n",
    "ax.set_title(f\"Most frequent {most_freq_num} words\")\n",
    "plt.gca().invert_yaxis()\n",
    "\n",
    "plt.show()"
   ]
  },
  {
   "cell_type": "markdown",
   "metadata": {
    "id": "KRFXNEmNYRzA"
   },
   "source": [
    "##Separate x from y"
   ]
  },
  {
   "cell_type": "code",
   "execution_count": 8,
   "metadata": {
    "id": "NtiVrQDt8H0U"
   },
   "outputs": [],
   "source": [
    "X_train = train_df.loc[:,['text']]\n",
    "y_train = train_df.loc[:,['sentiment']]\n",
    "X_test= test_df"
   ]
  },
  {
   "cell_type": "markdown",
   "metadata": {
    "id": "lPFWU7Sq0l1u"
   },
   "source": [
    "##Data cleaning"
   ]
  },
  {
   "cell_type": "code",
   "execution_count": 9,
   "metadata": {
    "colab": {
     "base_uri": "https://localhost:8080/"
    },
    "id": "pORcZa5cd8E8",
    "outputId": "a482ad96-2b3a-4697-9f8e-12759a9a57dc"
   },
   "outputs": [
    {
     "name": "stderr",
     "output_type": "stream",
     "text": [
      "[nltk_data] Downloading package stopwords to\n",
      "[nltk_data]     C:\\Users\\S238669\\AppData\\Roaming\\nltk_data...\n",
      "[nltk_data]   Package stopwords is already up-to-date!\n"
     ]
    },
    {
     "data": {
      "text/plain": [
       "True"
      ]
     },
     "execution_count": 9,
     "metadata": {},
     "output_type": "execute_result"
    }
   ],
   "source": [
    "nltk.download('stopwords')\n"
   ]
  },
  {
   "cell_type": "code",
   "execution_count": 10,
   "metadata": {
    "colab": {
     "base_uri": "https://localhost:8080/",
     "height": 423
    },
    "id": "_lDSkXu0hqh_",
    "outputId": "2a692107-db19-405a-e7db-e9959130291d"
   },
   "outputs": [
    {
     "data": {
      "text/html": [
       "<div>\n",
       "<style scoped>\n",
       "    .dataframe tbody tr th:only-of-type {\n",
       "        vertical-align: middle;\n",
       "    }\n",
       "\n",
       "    .dataframe tbody tr th {\n",
       "        vertical-align: top;\n",
       "    }\n",
       "\n",
       "    .dataframe thead th {\n",
       "        text-align: right;\n",
       "    }\n",
       "</style>\n",
       "<table border=\"1\" class=\"dataframe\">\n",
       "  <thead>\n",
       "    <tr style=\"text-align: right;\">\n",
       "      <th></th>\n",
       "      <th>text</th>\n",
       "      <th>text_clean</th>\n",
       "    </tr>\n",
       "  </thead>\n",
       "  <tbody>\n",
       "    <tr>\n",
       "      <th>0</th>\n",
       "      <td>@MissBianca76 Yes, talking helps a lot.. going...</td>\n",
       "      <td>@MissBianca76 Yes, talking helps a lot.. going...</td>\n",
       "    </tr>\n",
       "    <tr>\n",
       "      <th>1</th>\n",
       "      <td>SUNSHINE. livingg itttt. imma lie on the grass...</td>\n",
       "      <td>SUNSHINE. livingg itttt. imma lie on the grass...</td>\n",
       "    </tr>\n",
       "    <tr>\n",
       "      <th>2</th>\n",
       "      <td>@PleaseBeMine Something for your iphone</td>\n",
       "      <td>@PleaseBeMine Something for your iphone</td>\n",
       "    </tr>\n",
       "    <tr>\n",
       "      <th>3</th>\n",
       "      <td>@GabrielSaporta couldn't get in to the after p...</td>\n",
       "      <td>@GabrielSaporta couldn't get in to the after p...</td>\n",
       "    </tr>\n",
       "    <tr>\n",
       "      <th>4</th>\n",
       "      <td>@bradiewebbstack awww is andy being mean again...</td>\n",
       "      <td>@bradiewebbstack awww is andy being mean again...</td>\n",
       "    </tr>\n",
       "    <tr>\n",
       "      <th>...</th>\n",
       "      <td>...</td>\n",
       "      <td>...</td>\n",
       "    </tr>\n",
       "    <tr>\n",
       "      <th>224989</th>\n",
       "      <td>@Dropsofreign yeah I hope Iran people reach fr...</td>\n",
       "      <td>@Dropsofreign yeah I hope Iran people reach fr...</td>\n",
       "    </tr>\n",
       "    <tr>\n",
       "      <th>224990</th>\n",
       "      <td>Trying the qwerty keypad</td>\n",
       "      <td>Trying the qwerty keypad</td>\n",
       "    </tr>\n",
       "    <tr>\n",
       "      <th>224991</th>\n",
       "      <td>I love Jasper &amp;amp; Jackson but that wig in th...</td>\n",
       "      <td>I love Jasper &amp;amp; Jackson but that wig in th...</td>\n",
       "    </tr>\n",
       "    <tr>\n",
       "      <th>224992</th>\n",
       "      <td>I am really tired and bored and bleh! I feel c...</td>\n",
       "      <td>I am really tired and bored and bleh! I feel c...</td>\n",
       "    </tr>\n",
       "    <tr>\n",
       "      <th>224993</th>\n",
       "      <td>@alyshatan good luck!! It sounds interesting t...</td>\n",
       "      <td>@alyshatan good luck!! It sounds interesting t...</td>\n",
       "    </tr>\n",
       "  </tbody>\n",
       "</table>\n",
       "<p>224994 rows × 2 columns</p>\n",
       "</div>"
      ],
      "text/plain": [
       "                                                     text  \\\n",
       "0       @MissBianca76 Yes, talking helps a lot.. going...   \n",
       "1       SUNSHINE. livingg itttt. imma lie on the grass...   \n",
       "2                @PleaseBeMine Something for your iphone    \n",
       "3       @GabrielSaporta couldn't get in to the after p...   \n",
       "4       @bradiewebbstack awww is andy being mean again...   \n",
       "...                                                   ...   \n",
       "224989  @Dropsofreign yeah I hope Iran people reach fr...   \n",
       "224990                          Trying the qwerty keypad    \n",
       "224991  I love Jasper &amp; Jackson but that wig in th...   \n",
       "224992  I am really tired and bored and bleh! I feel c...   \n",
       "224993  @alyshatan good luck!! It sounds interesting t...   \n",
       "\n",
       "                                               text_clean  \n",
       "0       @MissBianca76 Yes, talking helps a lot.. going...  \n",
       "1       SUNSHINE. livingg itttt. imma lie on the grass...  \n",
       "2                @PleaseBeMine Something for your iphone   \n",
       "3       @GabrielSaporta couldn't get in to the after p...  \n",
       "4       @bradiewebbstack awww is andy being mean again...  \n",
       "...                                                   ...  \n",
       "224989  @Dropsofreign yeah I hope Iran people reach fr...  \n",
       "224990                          Trying the qwerty keypad   \n",
       "224991  I love Jasper &amp; Jackson but that wig in th...  \n",
       "224992  I am really tired and bored and bleh! I feel c...  \n",
       "224993  @alyshatan good luck!! It sounds interesting t...  \n",
       "\n",
       "[224994 rows x 2 columns]"
      ]
     },
     "execution_count": 10,
     "metadata": {},
     "output_type": "execute_result"
    }
   ],
   "source": [
    "X_train['text_clean'] = X_train['text']\n",
    "\n",
    "X_train"
   ]
  },
  {
   "cell_type": "code",
   "execution_count": 11,
   "metadata": {
    "id": "9iVLmfqvvQgv"
   },
   "outputs": [],
   "source": [
    "import re\n",
    "from nltk.corpus import stopwords\n",
    "\n",
    "stopwords_list = stopwords.words(\"english\")\n",
    "\n",
    "def remover(text):\n",
    "    text_tokens = text.split(\" \")\n",
    "    final_list = [word for word in text_tokens if not word in stopwords_list]\n",
    "    text = ' '.join(final_list)\n",
    "    return text\n",
    "\n",
    "for index, row in X_train.iterrows():\n",
    "    row['text_clean'] = re.sub('@\\S+', ' ', row['text_clean']) #removing @ from names\n",
    "    row['text_clean'] = re.sub(r'\\s+', ' ', row['text_clean']) # Remove extra white space from text\n",
    "    row['text_clean'] = re.sub(r'\\W', ' ', row['text_clean']) # Remove all the special characters from text\n",
    "    row['text_clean'] = re.sub(r'\\s+[a-zA-Z]\\s+', ' ', row['text_clean']) # Remove all single characters from text\n",
    "    #row['text_clean'] = remover(row['text_clean']) # removes stopwords\n",
    "    row['text_clean'] = row['text_clean'].lower() # Converting to Lowercase\n",
    "\n"
   ]
  },
  {
   "cell_type": "markdown",
   "metadata": {
    "id": "RmTqcSGE4cVj"
   },
   "source": [
    "##Put Words as features"
   ]
  },
  {
   "cell_type": "code",
   "execution_count": 12,
   "metadata": {
    "scrolled": true
   },
   "outputs": [
    {
     "data": {
      "text/html": [
       "<div>\n",
       "<style scoped>\n",
       "    .dataframe tbody tr th:only-of-type {\n",
       "        vertical-align: middle;\n",
       "    }\n",
       "\n",
       "    .dataframe tbody tr th {\n",
       "        vertical-align: top;\n",
       "    }\n",
       "\n",
       "    .dataframe thead th {\n",
       "        text-align: right;\n",
       "    }\n",
       "</style>\n",
       "<table border=\"1\" class=\"dataframe\">\n",
       "  <thead>\n",
       "    <tr style=\"text-align: right;\">\n",
       "      <th></th>\n",
       "      <th>text</th>\n",
       "      <th>text_clean</th>\n",
       "    </tr>\n",
       "  </thead>\n",
       "  <tbody>\n",
       "    <tr>\n",
       "      <th>0</th>\n",
       "      <td>@MissBianca76 Yes, talking helps a lot.. going...</td>\n",
       "      <td>yes  talking helps lot   going through it  th...</td>\n",
       "    </tr>\n",
       "    <tr>\n",
       "      <th>1</th>\n",
       "      <td>SUNSHINE. livingg itttt. imma lie on the grass...</td>\n",
       "      <td>sunshine  livingg itttt  imma lie on the grass...</td>\n",
       "    </tr>\n",
       "    <tr>\n",
       "      <th>2</th>\n",
       "      <td>@PleaseBeMine Something for your iphone</td>\n",
       "      <td>something for your iphone</td>\n",
       "    </tr>\n",
       "    <tr>\n",
       "      <th>3</th>\n",
       "      <td>@GabrielSaporta couldn't get in to the after p...</td>\n",
       "      <td>couldn get in to the after party</td>\n",
       "    </tr>\n",
       "    <tr>\n",
       "      <th>4</th>\n",
       "      <td>@bradiewebbstack awww is andy being mean again...</td>\n",
       "      <td>awww is andy being mean again  now want maccas</td>\n",
       "    </tr>\n",
       "    <tr>\n",
       "      <th>...</th>\n",
       "      <td>...</td>\n",
       "      <td>...</td>\n",
       "    </tr>\n",
       "    <tr>\n",
       "      <th>224989</th>\n",
       "      <td>@Dropsofreign yeah I hope Iran people reach fr...</td>\n",
       "      <td>yeah hope iran people reach freedom    they r...</td>\n",
       "    </tr>\n",
       "    <tr>\n",
       "      <th>224990</th>\n",
       "      <td>Trying the qwerty keypad</td>\n",
       "      <td>trying the qwerty keypad</td>\n",
       "    </tr>\n",
       "    <tr>\n",
       "      <th>224991</th>\n",
       "      <td>I love Jasper &amp;amp; Jackson but that wig in th...</td>\n",
       "      <td>i love jasper  amp  jackson but that wig in th...</td>\n",
       "    </tr>\n",
       "    <tr>\n",
       "      <th>224992</th>\n",
       "      <td>I am really tired and bored and bleh! I feel c...</td>\n",
       "      <td>i am really tired and bored and bleh feel crappy</td>\n",
       "    </tr>\n",
       "    <tr>\n",
       "      <th>224993</th>\n",
       "      <td>@alyshatan good luck!! It sounds interesting t...</td>\n",
       "      <td>good luck   it sounds interesting though</td>\n",
       "    </tr>\n",
       "  </tbody>\n",
       "</table>\n",
       "<p>224994 rows × 2 columns</p>\n",
       "</div>"
      ],
      "text/plain": [
       "                                                     text  \\\n",
       "0       @MissBianca76 Yes, talking helps a lot.. going...   \n",
       "1       SUNSHINE. livingg itttt. imma lie on the grass...   \n",
       "2                @PleaseBeMine Something for your iphone    \n",
       "3       @GabrielSaporta couldn't get in to the after p...   \n",
       "4       @bradiewebbstack awww is andy being mean again...   \n",
       "...                                                   ...   \n",
       "224989  @Dropsofreign yeah I hope Iran people reach fr...   \n",
       "224990                          Trying the qwerty keypad    \n",
       "224991  I love Jasper &amp; Jackson but that wig in th...   \n",
       "224992  I am really tired and bored and bleh! I feel c...   \n",
       "224993  @alyshatan good luck!! It sounds interesting t...   \n",
       "\n",
       "                                               text_clean  \n",
       "0        yes  talking helps lot   going through it  th...  \n",
       "1       sunshine  livingg itttt  imma lie on the grass...  \n",
       "2                              something for your iphone   \n",
       "3                      couldn get in to the after party    \n",
       "4        awww is andy being mean again  now want maccas    \n",
       "...                                                   ...  \n",
       "224989   yeah hope iran people reach freedom    they r...  \n",
       "224990                          trying the qwerty keypad   \n",
       "224991  i love jasper  amp  jackson but that wig in th...  \n",
       "224992  i am really tired and bored and bleh feel crappy   \n",
       "224993          good luck   it sounds interesting though   \n",
       "\n",
       "[224994 rows x 2 columns]"
      ]
     },
     "execution_count": 12,
     "metadata": {},
     "output_type": "execute_result"
    }
   ],
   "source": [
    "X_train"
   ]
  },
  {
   "cell_type": "code",
   "execution_count": 13,
   "metadata": {
    "id": "JTxWrAPk4buR"
   },
   "outputs": [],
   "source": [
    "X_train=X_train.drop(columns=['text'])\n",
    "X_test=X_test.drop(columns=['text'])"
   ]
  },
  {
   "cell_type": "code",
   "execution_count": 14,
   "metadata": {
    "id": "kNYJU7w04atM"
   },
   "outputs": [
    {
     "data": {
      "text/html": [
       "<div>\n",
       "<style scoped>\n",
       "    .dataframe tbody tr th:only-of-type {\n",
       "        vertical-align: middle;\n",
       "    }\n",
       "\n",
       "    .dataframe tbody tr th {\n",
       "        vertical-align: top;\n",
       "    }\n",
       "\n",
       "    .dataframe thead th {\n",
       "        text-align: right;\n",
       "    }\n",
       "</style>\n",
       "<table border=\"1\" class=\"dataframe\">\n",
       "  <thead>\n",
       "    <tr style=\"text-align: right;\">\n",
       "      <th></th>\n",
       "      <th>text_clean</th>\n",
       "    </tr>\n",
       "  </thead>\n",
       "  <tbody>\n",
       "    <tr>\n",
       "      <th>0</th>\n",
       "      <td>yes  talking helps lot   going through it  th...</td>\n",
       "    </tr>\n",
       "    <tr>\n",
       "      <th>1</th>\n",
       "      <td>sunshine  livingg itttt  imma lie on the grass...</td>\n",
       "    </tr>\n",
       "    <tr>\n",
       "      <th>2</th>\n",
       "      <td>something for your iphone</td>\n",
       "    </tr>\n",
       "    <tr>\n",
       "      <th>3</th>\n",
       "      <td>couldn get in to the after party</td>\n",
       "    </tr>\n",
       "    <tr>\n",
       "      <th>4</th>\n",
       "      <td>awww is andy being mean again  now want maccas</td>\n",
       "    </tr>\n",
       "    <tr>\n",
       "      <th>...</th>\n",
       "      <td>...</td>\n",
       "    </tr>\n",
       "    <tr>\n",
       "      <th>224989</th>\n",
       "      <td>yeah hope iran people reach freedom    they r...</td>\n",
       "    </tr>\n",
       "    <tr>\n",
       "      <th>224990</th>\n",
       "      <td>trying the qwerty keypad</td>\n",
       "    </tr>\n",
       "    <tr>\n",
       "      <th>224991</th>\n",
       "      <td>i love jasper  amp  jackson but that wig in th...</td>\n",
       "    </tr>\n",
       "    <tr>\n",
       "      <th>224992</th>\n",
       "      <td>i am really tired and bored and bleh feel crappy</td>\n",
       "    </tr>\n",
       "    <tr>\n",
       "      <th>224993</th>\n",
       "      <td>good luck   it sounds interesting though</td>\n",
       "    </tr>\n",
       "  </tbody>\n",
       "</table>\n",
       "<p>224994 rows × 1 columns</p>\n",
       "</div>"
      ],
      "text/plain": [
       "                                               text_clean\n",
       "0        yes  talking helps lot   going through it  th...\n",
       "1       sunshine  livingg itttt  imma lie on the grass...\n",
       "2                              something for your iphone \n",
       "3                      couldn get in to the after party  \n",
       "4        awww is andy being mean again  now want maccas  \n",
       "...                                                   ...\n",
       "224989   yeah hope iran people reach freedom    they r...\n",
       "224990                          trying the qwerty keypad \n",
       "224991  i love jasper  amp  jackson but that wig in th...\n",
       "224992  i am really tired and bored and bleh feel crappy \n",
       "224993          good luck   it sounds interesting though \n",
       "\n",
       "[224994 rows x 1 columns]"
      ]
     },
     "execution_count": 14,
     "metadata": {},
     "output_type": "execute_result"
    }
   ],
   "source": [
    "X_train"
   ]
  },
  {
   "cell_type": "markdown",
   "metadata": {
    "id": "u4pnW6ZGdOiN"
   },
   "source": [
    "##Logistic regression "
   ]
  },
  {
   "cell_type": "code",
   "execution_count": 15,
   "metadata": {
    "scrolled": true
   },
   "outputs": [
    {
     "name": "stdout",
     "output_type": "stream",
     "text": [
      "['00' '000' '0000' ... 'øµù' 'ø¹' 'øºø']\n",
      "eccolo\n"
     ]
    }
   ],
   "source": [
    "tfidf = TfidfVectorizer(max_df= 0.30, min_df=0)#0.50 #0.80 , performa bene anche con 0.40 #piu' alzo min_df più funziona male #0.005 buono #provare con 0.001 e 0.0005 (0.00005  consegnato)(0.00001  consegnato 2)\n",
    "X_train = tfidf.fit_transform(X_train.text_clean) #passing the cleaned text\n",
    "selected_feat=tfidf.get_feature_names_out()\n",
    "print(selected_feat)\n",
    "print('eccolo')\n",
    "#print(X_train.toarray())\n",
    "\n",
    "#makes feature to the model "
   ]
  },
  {
   "cell_type": "code",
   "execution_count": 16,
   "metadata": {},
   "outputs": [
    {
     "data": {
      "text/plain": [
       "2591822"
      ]
     },
     "execution_count": 16,
     "metadata": {},
     "output_type": "execute_result"
    }
   ],
   "source": [
    "X_train.size"
   ]
  },
  {
   "cell_type": "code",
   "execution_count": 17,
   "metadata": {},
   "outputs": [
    {
     "data": {
      "text/plain": [
       "'from sklearn.decomposition import TruncatedSVD\\n# prepare transform on dataset\\nsvd.fit(X_train)\\n# apply transform to dataset\\ntransformed = svd.transform(X_train)'"
      ]
     },
     "execution_count": 17,
     "metadata": {},
     "output_type": "execute_result"
    }
   ],
   "source": [
    "\"\"\"from sklearn.decomposition import TruncatedSVD\n",
    "# prepare transform on dataset\n",
    "svd.fit(X_train)\n",
    "# apply transform to dataset\n",
    "transformed = svd.transform(X_train)\"\"\""
   ]
  },
  {
   "cell_type": "code",
   "execution_count": 18,
   "metadata": {},
   "outputs": [],
   "source": [
    "#transformed.size\n",
    "#transformed"
   ]
  },
  {
   "cell_type": "code",
   "execution_count": 19,
   "metadata": {},
   "outputs": [
    {
     "data": {
      "text/plain": [
       "'\\ncv_scores = cross_val_score(logistic_regression, x_svd_train, y_svd_train, cv=5, scoring=\\'f1_macro\\', n_jobs=-1)\\n#cv_scores = cross_val_score(logistic_regression, X_train, y_train, cv=5, scoring=\\'f1_macro\\', n_jobs=-1)\\n\\n\\nmean = cv_scores.mean()\\nstd = cv_scores.std() * 2\\nprint(f\"f1_macro: {mean:.3f} (+/- {std:.3f})\")'"
      ]
     },
     "execution_count": 19,
     "metadata": {},
     "output_type": "execute_result"
    }
   ],
   "source": [
    "#using x_svd truncated\n",
    "\n",
    "#logistic_regression = gridSearch.best_estimator_\n",
    "#using SVD truncated\n",
    "\"\"\"\n",
    "cv_scores = cross_val_score(logistic_regression, x_svd_train, y_svd_train, cv=5, scoring='f1_macro', n_jobs=-1)\n",
    "#cv_scores = cross_val_score(logistic_regression, X_train, y_train, cv=5, scoring='f1_macro', n_jobs=-1)\n",
    "\n",
    "\n",
    "mean = cv_scores.mean()\n",
    "std = cv_scores.std() * 2\n",
    "print(f\"f1_macro: {mean:.3f} (+/- {std:.3f})\")\"\"\""
   ]
  },
  {
   "cell_type": "code",
   "execution_count": 20,
   "metadata": {
    "colab": {
     "base_uri": "https://localhost:8080/"
    },
    "id": "VKXdVTNzgO7w",
    "outputId": "91ed65a4-1d69-46d7-99d2-bfbc69561de7"
   },
   "outputs": [
    {
     "data": {
      "text/plain": [
       "'\\n#logistic_regression = gridSearch.best_estimator_\\n#using SVD truncated\\ncv_scores = cross_val_score(logistic_regression, X_train, y_train, cv=5, scoring=\\'f1_macro\\', n_jobs=-1)\\n#cv_scores = cross_val_score(logistic_regression, X_train, y_train, cv=5, scoring=\\'f1_macro\\', n_jobs=-1)\\n\\n\\nmean = cv_scores.mean()\\nstd = cv_scores.std() * 2\\nprint(f\"f1_macro: {mean:.3f} (+/- {std:.3f})\")\\n'"
      ]
     },
     "execution_count": 20,
     "metadata": {},
     "output_type": "execute_result"
    }
   ],
   "source": [
    "#Using x_train\n",
    "\"\"\"\n",
    "#logistic_regression = gridSearch.best_estimator_\n",
    "#using SVD truncated\n",
    "cv_scores = cross_val_score(logistic_regression, X_train, y_train, cv=5, scoring='f1_macro', n_jobs=-1)\n",
    "#cv_scores = cross_val_score(logistic_regression, X_train, y_train, cv=5, scoring='f1_macro', n_jobs=-1)\n",
    "\n",
    "\n",
    "mean = cv_scores.mean()\n",
    "std = cv_scores.std() * 2\n",
    "print(f\"f1_macro: {mean:.3f} (+/- {std:.3f})\")\n",
    "\"\"\""
   ]
  },
  {
   "cell_type": "code",
   "execution_count": 21,
   "metadata": {},
   "outputs": [
    {
     "name": "stdout",
     "output_type": "stream",
     "text": [
      "f1_macro: nan (+/- nan)\n"
     ]
    },
    {
     "name": "stderr",
     "output_type": "stream",
     "text": [
      "C:\\Users\\S238669\\Anaconda3\\lib\\site-packages\\sklearn\\model_selection\\_validation.py:372: FitFailedWarning: \n",
      "4 fits failed out of a total of 5.\n",
      "The score on these train-test partitions for these parameters will be set to nan.\n",
      "If these failures are not expected, you can try to debug them by setting error_score='raise'.\n",
      "\n",
      "Below are more details about the failures:\n",
      "--------------------------------------------------------------------------------\n",
      "2 fits failed with the following error:\n",
      "Traceback (most recent call last):\n",
      "  File \"C:\\Users\\S238669\\Anaconda3\\lib\\site-packages\\sklearn\\model_selection\\_validation.py\", line 680, in _fit_and_score\n",
      "    estimator.fit(X_train, y_train, **fit_params)\n",
      "  File \"C:\\Users\\S238669\\Anaconda3\\lib\\site-packages\\sklearn\\pipeline.py\", line 390, in fit\n",
      "    Xt = self._fit(X, y, **fit_params_steps)\n",
      "  File \"C:\\Users\\S238669\\Anaconda3\\lib\\site-packages\\sklearn\\pipeline.py\", line 348, in _fit\n",
      "    X, fitted_transformer = fit_transform_one_cached(\n",
      "  File \"C:\\Users\\S238669\\Anaconda3\\lib\\site-packages\\joblib\\memory.py\", line 352, in __call__\n",
      "    return self.func(*args, **kwargs)\n",
      "  File \"C:\\Users\\S238669\\Anaconda3\\lib\\site-packages\\sklearn\\pipeline.py\", line 893, in _fit_transform_one\n",
      "    res = transformer.fit_transform(X, y, **fit_params)\n",
      "  File \"C:\\Users\\S238669\\Anaconda3\\lib\\site-packages\\sklearn\\decomposition\\_truncated_svd.py\", line 210, in fit_transform\n",
      "    U, Sigma, VT = randomized_svd(\n",
      "  File \"C:\\Users\\S238669\\Anaconda3\\lib\\site-packages\\sklearn\\utils\\extmath.py\", line 395, in randomized_svd\n",
      "    Q = randomized_range_finder(\n",
      "  File \"C:\\Users\\S238669\\Anaconda3\\lib\\site-packages\\sklearn\\utils\\extmath.py\", line 237, in randomized_range_finder\n",
      "    Q, _ = linalg.lu(safe_sparse_dot(A, Q), permute_l=True)\n",
      "  File \"C:\\Users\\S238669\\Anaconda3\\lib\\site-packages\\sklearn\\utils\\extmath.py\", line 153, in safe_sparse_dot\n",
      "    ret = a @ b\n",
      "  File \"C:\\Users\\S238669\\Anaconda3\\lib\\site-packages\\scipy\\sparse\\base.py\", line 560, in __matmul__\n",
      "    return self.__mul__(other)\n",
      "  File \"C:\\Users\\S238669\\Anaconda3\\lib\\site-packages\\scipy\\sparse\\base.py\", line 471, in __mul__\n",
      "    return self._mul_multivector(other)\n",
      "  File \"C:\\Users\\S238669\\Anaconda3\\lib\\site-packages\\scipy\\sparse\\compressed.py\", line 486, in _mul_multivector\n",
      "    result = np.zeros((M, n_vecs),\n",
      "numpy.core._exceptions._ArrayMemoryError: Unable to allocate 13.4 GiB for an array with shape (179995, 10010) and data type float64\n",
      "\n",
      "--------------------------------------------------------------------------------\n",
      "1 fits failed with the following error:\n",
      "Traceback (most recent call last):\n",
      "  File \"C:\\Users\\S238669\\Anaconda3\\lib\\site-packages\\sklearn\\model_selection\\_validation.py\", line 680, in _fit_and_score\n",
      "    estimator.fit(X_train, y_train, **fit_params)\n",
      "  File \"C:\\Users\\S238669\\Anaconda3\\lib\\site-packages\\sklearn\\pipeline.py\", line 390, in fit\n",
      "    Xt = self._fit(X, y, **fit_params_steps)\n",
      "  File \"C:\\Users\\S238669\\Anaconda3\\lib\\site-packages\\sklearn\\pipeline.py\", line 348, in _fit\n",
      "    X, fitted_transformer = fit_transform_one_cached(\n",
      "  File \"C:\\Users\\S238669\\Anaconda3\\lib\\site-packages\\joblib\\memory.py\", line 352, in __call__\n",
      "    return self.func(*args, **kwargs)\n",
      "  File \"C:\\Users\\S238669\\Anaconda3\\lib\\site-packages\\sklearn\\pipeline.py\", line 893, in _fit_transform_one\n",
      "    res = transformer.fit_transform(X, y, **fit_params)\n",
      "  File \"C:\\Users\\S238669\\Anaconda3\\lib\\site-packages\\sklearn\\decomposition\\_truncated_svd.py\", line 210, in fit_transform\n",
      "    U, Sigma, VT = randomized_svd(\n",
      "  File \"C:\\Users\\S238669\\Anaconda3\\lib\\site-packages\\sklearn\\utils\\extmath.py\", line 395, in randomized_svd\n",
      "    Q = randomized_range_finder(\n",
      "  File \"C:\\Users\\S238669\\Anaconda3\\lib\\site-packages\\sklearn\\utils\\extmath.py\", line 237, in randomized_range_finder\n",
      "    Q, _ = linalg.lu(safe_sparse_dot(A, Q), permute_l=True)\n",
      "  File \"C:\\Users\\S238669\\Anaconda3\\lib\\site-packages\\scipy\\linalg\\decomp_lu.py\", line 216, in lu\n",
      "    p, l, u, info = flu(a1, permute_l=permute_l, overwrite_a=overwrite_a)\n",
      "numpy.core._exceptions._ArrayMemoryError: Unable to allocate 13.4 GiB for an array with shape (179995, 10010) and data type float64\n",
      "\n",
      "--------------------------------------------------------------------------------\n",
      "1 fits failed with the following error:\n",
      "Traceback (most recent call last):\n",
      "  File \"C:\\Users\\S238669\\Anaconda3\\lib\\site-packages\\sklearn\\model_selection\\_validation.py\", line 680, in _fit_and_score\n",
      "    estimator.fit(X_train, y_train, **fit_params)\n",
      "  File \"C:\\Users\\S238669\\Anaconda3\\lib\\site-packages\\sklearn\\pipeline.py\", line 390, in fit\n",
      "    Xt = self._fit(X, y, **fit_params_steps)\n",
      "  File \"C:\\Users\\S238669\\Anaconda3\\lib\\site-packages\\sklearn\\pipeline.py\", line 348, in _fit\n",
      "    X, fitted_transformer = fit_transform_one_cached(\n",
      "  File \"C:\\Users\\S238669\\Anaconda3\\lib\\site-packages\\joblib\\memory.py\", line 352, in __call__\n",
      "    return self.func(*args, **kwargs)\n",
      "  File \"C:\\Users\\S238669\\Anaconda3\\lib\\site-packages\\sklearn\\pipeline.py\", line 893, in _fit_transform_one\n",
      "    res = transformer.fit_transform(X, y, **fit_params)\n",
      "  File \"C:\\Users\\S238669\\Anaconda3\\lib\\site-packages\\sklearn\\decomposition\\_truncated_svd.py\", line 210, in fit_transform\n",
      "    U, Sigma, VT = randomized_svd(\n",
      "  File \"C:\\Users\\S238669\\Anaconda3\\lib\\site-packages\\sklearn\\utils\\extmath.py\", line 395, in randomized_svd\n",
      "    Q = randomized_range_finder(\n",
      "  File \"C:\\Users\\S238669\\Anaconda3\\lib\\site-packages\\sklearn\\utils\\extmath.py\", line 237, in randomized_range_finder\n",
      "    Q, _ = linalg.lu(safe_sparse_dot(A, Q), permute_l=True)\n",
      "  File \"C:\\Users\\S238669\\Anaconda3\\lib\\site-packages\\sklearn\\utils\\extmath.py\", line 153, in safe_sparse_dot\n",
      "    ret = a @ b\n",
      "  File \"C:\\Users\\S238669\\Anaconda3\\lib\\site-packages\\scipy\\sparse\\base.py\", line 560, in __matmul__\n",
      "    return self.__mul__(other)\n",
      "  File \"C:\\Users\\S238669\\Anaconda3\\lib\\site-packages\\scipy\\sparse\\base.py\", line 471, in __mul__\n",
      "    return self._mul_multivector(other)\n",
      "  File \"C:\\Users\\S238669\\Anaconda3\\lib\\site-packages\\scipy\\sparse\\compressed.py\", line 486, in _mul_multivector\n",
      "    result = np.zeros((M, n_vecs),\n",
      "numpy.core._exceptions._ArrayMemoryError: Unable to allocate 13.4 GiB for an array with shape (179996, 10010) and data type float64\n",
      "\n",
      "  warnings.warn(some_fits_failed_message, FitFailedWarning)\n"
     ]
    }
   ],
   "source": [
    "from numpy import mean\n",
    "from numpy import std\n",
    "from sklearn.datasets import make_classification\n",
    "from sklearn.model_selection import cross_val_score\n",
    "from sklearn.model_selection import RepeatedStratifiedKFold\n",
    "from sklearn.pipeline import Pipeline\n",
    "from sklearn.decomposition import TruncatedSVD\n",
    "from sklearn.linear_model import LogisticRegression\n",
    "\n",
    "# define dataset\n",
    "#X, y = make_classification(n_samples=1000, n_features=20, n_informative=10, n_redundant=10, random_state=7)\n",
    "# define the pipeline\n",
    "steps = [('svd', TruncatedSVD(n_components=10000)), ('m', LogisticRegression(penalty='l2', random_state=0, C=3,fit_intercept= True, max_iter= 200, solver= 'liblinear'))]\n",
    "#steps = [('svd', TruncatedSVD(n_components=14)), ('m', LinearSVC(random_state=0,C=1,loss='hinge'))]\n",
    "model = Pipeline(steps=steps)\n",
    "# evaluate model\n",
    "# int, default=5 Number of folds. Must be at least 2.\n",
    "#  int, default=10 Number of times cross-validator needs to be repeated.\n",
    "#\n",
    "\n",
    "cv_scores = cross_val_score(model, X_train, y_train, cv=5, scoring='f1_macro', n_jobs=-1)\n",
    "#cv_scores = cross_val_score(logistic_regression, X_train, y_train, cv=5, scoring='f1_macro', n_jobs=-1)\n",
    "\n",
    "\n",
    "mean = cv_scores.mean()\n",
    "std = cv_scores.std() * 2\n",
    "print(f\"f1_macro: {mean:.3f} (+/- {std:.3f})\")"
   ]
  },
  {
   "cell_type": "markdown",
   "metadata": {
    "id": "4mvV0bGspCF0"
   },
   "source": [
    "##Linear SVM"
   ]
  },
  {
   "cell_type": "code",
   "execution_count": 22,
   "metadata": {},
   "outputs": [
    {
     "ename": "NameError",
     "evalue": "name 'X' is not defined",
     "output_type": "error",
     "traceback": [
      "\u001b[1;31m---------------------------------------------------------------------------\u001b[0m",
      "\u001b[1;31mNameError\u001b[0m                                 Traceback (most recent call last)",
      "\u001b[1;32m<ipython-input-22-b5fec669aca1>\u001b[0m in \u001b[0;36m<module>\u001b[1;34m\u001b[0m\n\u001b[1;32m----> 1\u001b[1;33m \u001b[0mX\u001b[0m\u001b[1;33m\u001b[0m\u001b[1;33m\u001b[0m\u001b[0m\n\u001b[0m",
      "\u001b[1;31mNameError\u001b[0m: name 'X' is not defined"
     ]
    }
   ],
   "source": [
    "X"
   ]
  },
  {
   "cell_type": "code",
   "execution_count": null,
   "metadata": {
    "id": "VTQZkVjwp2qt"
   },
   "outputs": [],
   "source": [
    "linear_svc = LinearSVC(random_state=0,C=1,loss='hinge')\n",
    "\n",
    "#param_grid = {'loss': ['hinge', 'squared_hinge'], 'fit_intercept': [True, False], 'C': list(range(1,10,2))}\n",
    "\n",
    "#gridSearch = GridSearchCV(linear_svc, param_grid, scoring='f1_weighted', cv=5, n_jobs=-1)\n",
    "\n",
    "#gridSearch.fit(X_train, y_train)\n",
    "\n",
    "#print(gridSearch.best_params_)'''"
   ]
  },
  {
   "cell_type": "code",
   "execution_count": null,
   "metadata": {
    "colab": {
     "base_uri": "https://localhost:8080/"
    },
    "id": "cWtEmAZRqTX_",
    "outputId": "b8250e67-1b88-4278-c204-85d08bc50409"
   },
   "outputs": [],
   "source": [
    "#linear_svc = gridSearch.best_estimator_\n",
    "\n",
    "cv_scores = cross_val_score(linear_svc, X_svd, y_train, cv=5, scoring='f1_macro', n_jobs=-1)\n",
    "\n",
    "mean = cv_scores.mean()\n",
    "std = cv_scores.std() * 2\n",
    "print(f\"f1_macro: {mean:.3f} (+/- {std:.3f})\")\n"
   ]
  },
  {
   "cell_type": "markdown",
   "metadata": {
    "id": "2xGiRtvdai5u"
   },
   "source": [
    "##Random forest"
   ]
  },
  {
   "cell_type": "code",
   "execution_count": null,
   "metadata": {
    "id": "4XTL1MRlHGR7"
   },
   "outputs": [],
   "source": [
    "\n",
    "#rand_forest =  RandomForestClassifier(n_estimators=50, random_state=0, n_jobs=-1,verbose=1)\n",
    "\n",
    "#param_grid = {'n_estimators': [50, 100, 150]}\n",
    "\n",
    "#gridSearch = GridSearchCV(rand_forest, param_grid, scoring='f1_macro', cv=5, n_jobs=-1)\n",
    "\n",
    "#gridSearch.fit(X_train, y_train)\n",
    "\n",
    "#print(gridSearch.best_params_)"
   ]
  },
  {
   "cell_type": "code",
   "execution_count": null,
   "metadata": {
    "id": "C-m-KLg_HGBP"
   },
   "outputs": [],
   "source": [
    "\n",
    "\n",
    "df = pd.DataFrame(data=y_to_upload)\n",
    "\n",
    "df\n",
    "\n",
    "df.to_csv('my_csv_res.csv',index=True)"
   ]
  },
  {
   "cell_type": "code",
   "execution_count": null,
   "metadata": {
    "id": "X-OCz-ZnByJM"
   },
   "outputs": [],
   "source": []
  },
  {
   "cell_type": "code",
   "execution_count": null,
   "metadata": {},
   "outputs": [],
   "source": []
  },
  {
   "cell_type": "code",
   "execution_count": null,
   "metadata": {},
   "outputs": [],
   "source": []
  },
  {
   "cell_type": "code",
   "execution_count": null,
   "metadata": {},
   "outputs": [],
   "source": []
  },
  {
   "cell_type": "code",
   "execution_count": null,
   "metadata": {},
   "outputs": [],
   "source": []
  }
 ],
 "metadata": {
  "colab": {
   "collapsed_sections": [],
   "name": "Copia di 0.79 DataScienceLab2022.ipynb",
   "provenance": []
  },
  "kernelspec": {
   "display_name": "Python 3",
   "language": "python",
   "name": "python3"
  },
  "language_info": {
   "codemirror_mode": {
    "name": "ipython",
    "version": 3
   },
   "file_extension": ".py",
   "mimetype": "text/x-python",
   "name": "python",
   "nbconvert_exporter": "python",
   "pygments_lexer": "ipython3",
   "version": "3.8.8"
  }
 },
 "nbformat": 4,
 "nbformat_minor": 1
}
