{
 "cells": [
  {
   "cell_type": "code",
   "execution_count": 51,
   "id": "380fbb9b",
   "metadata": {},
   "outputs": [
    {
     "name": "stdout",
     "output_type": "stream",
     "text": [
      "Collecting gensim\n",
      "  Downloading gensim-4.1.2-cp38-cp38-win_amd64.whl (24.0 MB)\n",
      "Requirement already satisfied: scipy>=0.18.1 in c:\\users\\s238669\\anaconda3\\lib\\site-packages (from gensim) (1.6.2)\n",
      "Collecting smart-open>=1.8.1\n",
      "  Downloading smart_open-5.2.1-py3-none-any.whl (58 kB)\n",
      "Requirement already satisfied: Cython==0.29.23 in c:\\users\\s238669\\anaconda3\\lib\\site-packages (from gensim) (0.29.23)\n",
      "Requirement already satisfied: numpy>=1.17.0 in c:\\users\\s238669\\anaconda3\\lib\\site-packages (from gensim) (1.19.5)\n",
      "Installing collected packages: smart-open, gensim\n",
      "Successfully installed gensim-4.1.2 smart-open-5.2.1\n"
     ]
    }
   ],
   "source": [
    "!pip install gensim"
   ]
  },
  {
   "cell_type": "code",
   "execution_count": 34,
   "id": "a25ff6f0",
   "metadata": {},
   "outputs": [],
   "source": [
    "from sklearn.model_selection import train_test_split\n",
    "import nltk\n",
    "from sklearn.feature_extraction.text import TfidfVectorizer\n",
    "from nltk.tokenize import TweetTokenizer\n",
    "from nltk.corpus import stopwords\n",
    "from nltk.stem.snowball import SnowballStemmer\n",
    "import pandas as pd\n",
    "from sklearn.linear_model import LogisticRegression\n",
    "from sklearn.svm import LinearSVC\n",
    "\n",
    "from sklearn.metrics import f1_score\n",
    "from sklearn.model_selection import cross_val_predict\n",
    "from sklearn.model_selection import cross_val_score"
   ]
  },
  {
   "cell_type": "code",
   "execution_count": 2,
   "id": "a36d6bb4",
   "metadata": {},
   "outputs": [
    {
     "data": {
      "text/html": [
       "<div>\n",
       "<style scoped>\n",
       "    .dataframe tbody tr th:only-of-type {\n",
       "        vertical-align: middle;\n",
       "    }\n",
       "\n",
       "    .dataframe tbody tr th {\n",
       "        vertical-align: top;\n",
       "    }\n",
       "\n",
       "    .dataframe thead th {\n",
       "        text-align: right;\n",
       "    }\n",
       "</style>\n",
       "<table border=\"1\" class=\"dataframe\">\n",
       "  <thead>\n",
       "    <tr style=\"text-align: right;\">\n",
       "      <th></th>\n",
       "      <th>sentiment</th>\n",
       "      <th>ids</th>\n",
       "      <th>date</th>\n",
       "      <th>flag</th>\n",
       "      <th>user</th>\n",
       "      <th>text</th>\n",
       "    </tr>\n",
       "  </thead>\n",
       "  <tbody>\n",
       "    <tr>\n",
       "      <th>0</th>\n",
       "      <td>1</td>\n",
       "      <td>1833972543</td>\n",
       "      <td>Mon May 18 01:08:27 PDT 2009</td>\n",
       "      <td>NO_QUERY</td>\n",
       "      <td>Killandra</td>\n",
       "      <td>@MissBianca76 Yes, talking helps a lot.. going...</td>\n",
       "    </tr>\n",
       "    <tr>\n",
       "      <th>1</th>\n",
       "      <td>1</td>\n",
       "      <td>1980318193</td>\n",
       "      <td>Sun May 31 06:23:17 PDT 2009</td>\n",
       "      <td>NO_QUERY</td>\n",
       "      <td>IMlisacowan</td>\n",
       "      <td>SUNSHINE. livingg itttt. imma lie on the grass...</td>\n",
       "    </tr>\n",
       "    <tr>\n",
       "      <th>2</th>\n",
       "      <td>1</td>\n",
       "      <td>1994409198</td>\n",
       "      <td>Mon Jun 01 11:52:54 PDT 2009</td>\n",
       "      <td>NO_QUERY</td>\n",
       "      <td>yaseminx3</td>\n",
       "      <td>@PleaseBeMine Something for your iphone</td>\n",
       "    </tr>\n",
       "    <tr>\n",
       "      <th>3</th>\n",
       "      <td>0</td>\n",
       "      <td>1824749377</td>\n",
       "      <td>Sun May 17 02:45:34 PDT 2009</td>\n",
       "      <td>NO_QUERY</td>\n",
       "      <td>no_surprises</td>\n",
       "      <td>@GabrielSaporta couldn't get in to the after p...</td>\n",
       "    </tr>\n",
       "    <tr>\n",
       "      <th>4</th>\n",
       "      <td>0</td>\n",
       "      <td>2001199113</td>\n",
       "      <td>Tue Jun 02 00:08:07 PDT 2009</td>\n",
       "      <td>NO_QUERY</td>\n",
       "      <td>Rhi_ShortStack</td>\n",
       "      <td>@bradiewebbstack awww is andy being mean again...</td>\n",
       "    </tr>\n",
       "    <tr>\n",
       "      <th>...</th>\n",
       "      <td>...</td>\n",
       "      <td>...</td>\n",
       "      <td>...</td>\n",
       "      <td>...</td>\n",
       "      <td>...</td>\n",
       "      <td>...</td>\n",
       "    </tr>\n",
       "    <tr>\n",
       "      <th>224989</th>\n",
       "      <td>0</td>\n",
       "      <td>2261324310</td>\n",
       "      <td>Sat Jun 20 20:36:48 PDT 2009</td>\n",
       "      <td>NO_QUERY</td>\n",
       "      <td>CynthiaBuroughs</td>\n",
       "      <td>@Dropsofreign yeah I hope Iran people reach fr...</td>\n",
       "    </tr>\n",
       "    <tr>\n",
       "      <th>224990</th>\n",
       "      <td>1</td>\n",
       "      <td>1989408152</td>\n",
       "      <td>Mon Jun 01 01:25:45 PDT 2009</td>\n",
       "      <td>NO_QUERY</td>\n",
       "      <td>unitechy</td>\n",
       "      <td>Trying the qwerty keypad</td>\n",
       "    </tr>\n",
       "    <tr>\n",
       "      <th>224991</th>\n",
       "      <td>0</td>\n",
       "      <td>1991221316</td>\n",
       "      <td>Mon Jun 01 06:38:10 PDT 2009</td>\n",
       "      <td>NO_QUERY</td>\n",
       "      <td>Xaan</td>\n",
       "      <td>I love Jasper &amp;amp; Jackson but that wig in th...</td>\n",
       "    </tr>\n",
       "    <tr>\n",
       "      <th>224992</th>\n",
       "      <td>0</td>\n",
       "      <td>2239702807</td>\n",
       "      <td>Fri Jun 19 08:51:56 PDT 2009</td>\n",
       "      <td>NO_QUERY</td>\n",
       "      <td>Ginger_Billie</td>\n",
       "      <td>I am really tired and bored and bleh! I feel c...</td>\n",
       "    </tr>\n",
       "    <tr>\n",
       "      <th>224993</th>\n",
       "      <td>1</td>\n",
       "      <td>2016018811</td>\n",
       "      <td>Wed Jun 03 06:00:29 PDT 2009</td>\n",
       "      <td>NO_QUERY</td>\n",
       "      <td>kevin_choo</td>\n",
       "      <td>@alyshatan good luck!! It sounds interesting t...</td>\n",
       "    </tr>\n",
       "  </tbody>\n",
       "</table>\n",
       "<p>224994 rows × 6 columns</p>\n",
       "</div>"
      ],
      "text/plain": [
       "        sentiment         ids                          date      flag  \\\n",
       "0               1  1833972543  Mon May 18 01:08:27 PDT 2009  NO_QUERY   \n",
       "1               1  1980318193  Sun May 31 06:23:17 PDT 2009  NO_QUERY   \n",
       "2               1  1994409198  Mon Jun 01 11:52:54 PDT 2009  NO_QUERY   \n",
       "3               0  1824749377  Sun May 17 02:45:34 PDT 2009  NO_QUERY   \n",
       "4               0  2001199113  Tue Jun 02 00:08:07 PDT 2009  NO_QUERY   \n",
       "...           ...         ...                           ...       ...   \n",
       "224989          0  2261324310  Sat Jun 20 20:36:48 PDT 2009  NO_QUERY   \n",
       "224990          1  1989408152  Mon Jun 01 01:25:45 PDT 2009  NO_QUERY   \n",
       "224991          0  1991221316  Mon Jun 01 06:38:10 PDT 2009  NO_QUERY   \n",
       "224992          0  2239702807  Fri Jun 19 08:51:56 PDT 2009  NO_QUERY   \n",
       "224993          1  2016018811  Wed Jun 03 06:00:29 PDT 2009  NO_QUERY   \n",
       "\n",
       "                   user                                               text  \n",
       "0             Killandra  @MissBianca76 Yes, talking helps a lot.. going...  \n",
       "1           IMlisacowan  SUNSHINE. livingg itttt. imma lie on the grass...  \n",
       "2             yaseminx3           @PleaseBeMine Something for your iphone   \n",
       "3          no_surprises  @GabrielSaporta couldn't get in to the after p...  \n",
       "4        Rhi_ShortStack  @bradiewebbstack awww is andy being mean again...  \n",
       "...                 ...                                                ...  \n",
       "224989  CynthiaBuroughs  @Dropsofreign yeah I hope Iran people reach fr...  \n",
       "224990         unitechy                          Trying the qwerty keypad   \n",
       "224991             Xaan  I love Jasper &amp; Jackson but that wig in th...  \n",
       "224992    Ginger_Billie  I am really tired and bored and bleh! I feel c...  \n",
       "224993       kevin_choo  @alyshatan good luck!! It sounds interesting t...  \n",
       "\n",
       "[224994 rows x 6 columns]"
      ]
     },
     "execution_count": 2,
     "metadata": {},
     "output_type": "execute_result"
    }
   ],
   "source": [
    "train_df = pd.read_csv('./development.csv', sep=',')\n",
    "train_df"
   ]
  },
  {
   "cell_type": "code",
   "execution_count": 53,
   "id": "0bf6c66f",
   "metadata": {},
   "outputs": [
    {
     "data": {
      "text/html": [
       "<div>\n",
       "<style scoped>\n",
       "    .dataframe tbody tr th:only-of-type {\n",
       "        vertical-align: middle;\n",
       "    }\n",
       "\n",
       "    .dataframe tbody tr th {\n",
       "        vertical-align: top;\n",
       "    }\n",
       "\n",
       "    .dataframe thead th {\n",
       "        text-align: right;\n",
       "    }\n",
       "</style>\n",
       "<table border=\"1\" class=\"dataframe\">\n",
       "  <thead>\n",
       "    <tr style=\"text-align: right;\">\n",
       "      <th></th>\n",
       "      <th>ids</th>\n",
       "      <th>date</th>\n",
       "      <th>flag</th>\n",
       "      <th>user</th>\n",
       "      <th>text</th>\n",
       "    </tr>\n",
       "  </thead>\n",
       "  <tbody>\n",
       "    <tr>\n",
       "      <th>0</th>\n",
       "      <td>1999928613</td>\n",
       "      <td>Mon Jun 01 21:04:54 PDT 2009</td>\n",
       "      <td>NO_QUERY</td>\n",
       "      <td>urbanperspectiv</td>\n",
       "      <td>@engteacher I'm pretty much the same ...in eit...</td>\n",
       "    </tr>\n",
       "    <tr>\n",
       "      <th>1</th>\n",
       "      <td>1827919331</td>\n",
       "      <td>Sun May 17 11:43:09 PDT 2009</td>\n",
       "      <td>NO_QUERY</td>\n",
       "      <td>therealsecret</td>\n",
       "      <td>@JaxLicurse same here  have a gr8 week ahead</td>\n",
       "    </tr>\n",
       "    <tr>\n",
       "      <th>2</th>\n",
       "      <td>1563640134</td>\n",
       "      <td>Sun Apr 19 23:37:52 PDT 2009</td>\n",
       "      <td>NO_QUERY</td>\n",
       "      <td>bitchville</td>\n",
       "      <td>@blacksweater  that's just nightmares all over</td>\n",
       "    </tr>\n",
       "    <tr>\n",
       "      <th>3</th>\n",
       "      <td>2189786396</td>\n",
       "      <td>Tue Jun 16 00:54:27 PDT 2009</td>\n",
       "      <td>NO_QUERY</td>\n",
       "      <td>epi_longo</td>\n",
       "      <td>@dlead @jishanvn cháº¯c pháº£i Äi thi Äáº¡i ...</td>\n",
       "    </tr>\n",
       "    <tr>\n",
       "      <th>4</th>\n",
       "      <td>1974034022</td>\n",
       "      <td>Sat May 30 12:18:33 PDT 2009</td>\n",
       "      <td>NO_QUERY</td>\n",
       "      <td>Curiosafmmb</td>\n",
       "      <td>@CA_Sweetie awe. ok sweetie. ttyl.   *hugs*</td>\n",
       "    </tr>\n",
       "    <tr>\n",
       "      <th>...</th>\n",
       "      <td>...</td>\n",
       "      <td>...</td>\n",
       "      <td>...</td>\n",
       "      <td>...</td>\n",
       "      <td>...</td>\n",
       "    </tr>\n",
       "    <tr>\n",
       "      <th>74994</th>\n",
       "      <td>1933009490</td>\n",
       "      <td>Tue May 26 22:45:42 PDT 2009</td>\n",
       "      <td>NO_QUERY</td>\n",
       "      <td>Irv25</td>\n",
       "      <td>@NIYANA man down,code 10...I'm going 2 try &amp;am...</td>\n",
       "    </tr>\n",
       "    <tr>\n",
       "      <th>74995</th>\n",
       "      <td>1563759085</td>\n",
       "      <td>Mon Apr 20 00:08:25 PDT 2009</td>\n",
       "      <td>NO_QUERY</td>\n",
       "      <td>iHomeTech</td>\n",
       "      <td>@senhordaguerra Thank you for following me: I ...</td>\n",
       "    </tr>\n",
       "    <tr>\n",
       "      <th>74996</th>\n",
       "      <td>1754026098</td>\n",
       "      <td>Sun May 10 04:38:13 PDT 2009</td>\n",
       "      <td>NO_QUERY</td>\n",
       "      <td>danger_skies</td>\n",
       "      <td>Why isn't Friday's Hollyoaks available for dow...</td>\n",
       "    </tr>\n",
       "    <tr>\n",
       "      <th>74997</th>\n",
       "      <td>2288725776</td>\n",
       "      <td>Mon Jun 22 19:32:13 PDT 2009</td>\n",
       "      <td>NO_QUERY</td>\n",
       "      <td>tracyewilli</td>\n",
       "      <td>@hollywilli she WAS !!! she was a MADAM they q...</td>\n",
       "    </tr>\n",
       "    <tr>\n",
       "      <th>74998</th>\n",
       "      <td>2052797310</td>\n",
       "      <td>Sat Jun 06 02:03:36 PDT 2009</td>\n",
       "      <td>NO_QUERY</td>\n",
       "      <td>jjanika</td>\n",
       "      <td>Plans for today = shower, shopping, rent some ...</td>\n",
       "    </tr>\n",
       "  </tbody>\n",
       "</table>\n",
       "<p>74999 rows × 5 columns</p>\n",
       "</div>"
      ],
      "text/plain": [
       "              ids                          date      flag             user  \\\n",
       "0      1999928613  Mon Jun 01 21:04:54 PDT 2009  NO_QUERY  urbanperspectiv   \n",
       "1      1827919331  Sun May 17 11:43:09 PDT 2009  NO_QUERY    therealsecret   \n",
       "2      1563640134  Sun Apr 19 23:37:52 PDT 2009  NO_QUERY       bitchville   \n",
       "3      2189786396  Tue Jun 16 00:54:27 PDT 2009  NO_QUERY        epi_longo   \n",
       "4      1974034022  Sat May 30 12:18:33 PDT 2009  NO_QUERY      Curiosafmmb   \n",
       "...           ...                           ...       ...              ...   \n",
       "74994  1933009490  Tue May 26 22:45:42 PDT 2009  NO_QUERY            Irv25   \n",
       "74995  1563759085  Mon Apr 20 00:08:25 PDT 2009  NO_QUERY        iHomeTech   \n",
       "74996  1754026098  Sun May 10 04:38:13 PDT 2009  NO_QUERY     danger_skies   \n",
       "74997  2288725776  Mon Jun 22 19:32:13 PDT 2009  NO_QUERY      tracyewilli   \n",
       "74998  2052797310  Sat Jun 06 02:03:36 PDT 2009  NO_QUERY          jjanika   \n",
       "\n",
       "                                                    text  \n",
       "0      @engteacher I'm pretty much the same ...in eit...  \n",
       "1          @JaxLicurse same here  have a gr8 week ahead   \n",
       "2         @blacksweater  that's just nightmares all over  \n",
       "3      @dlead @jishanvn cháº¯c pháº£i Äi thi Äáº¡i ...  \n",
       "4            @CA_Sweetie awe. ok sweetie. ttyl.   *hugs*  \n",
       "...                                                  ...  \n",
       "74994  @NIYANA man down,code 10...I'm going 2 try &am...  \n",
       "74995  @senhordaguerra Thank you for following me: I ...  \n",
       "74996  Why isn't Friday's Hollyoaks available for dow...  \n",
       "74997  @hollywilli she WAS !!! she was a MADAM they q...  \n",
       "74998  Plans for today = shower, shopping, rent some ...  \n",
       "\n",
       "[74999 rows x 5 columns]"
      ]
     },
     "execution_count": 53,
     "metadata": {},
     "output_type": "execute_result"
    }
   ],
   "source": [
    "test_df = pd.read_csv('./evaluation.csv', sep=',')\n",
    "test_df"
   ]
  },
  {
   "cell_type": "code",
   "execution_count": 3,
   "id": "1d8a134c",
   "metadata": {},
   "outputs": [],
   "source": [
    "X = train_df.loc[:,['text', 'user', 'date']] #adding also the date\n",
    "y = train_df.loc[:,['sentiment']]"
   ]
  },
  {
   "cell_type": "code",
   "execution_count": 4,
   "id": "a295de5c",
   "metadata": {},
   "outputs": [
    {
     "data": {
      "text/html": [
       "<div>\n",
       "<style scoped>\n",
       "    .dataframe tbody tr th:only-of-type {\n",
       "        vertical-align: middle;\n",
       "    }\n",
       "\n",
       "    .dataframe tbody tr th {\n",
       "        vertical-align: top;\n",
       "    }\n",
       "\n",
       "    .dataframe thead th {\n",
       "        text-align: right;\n",
       "    }\n",
       "</style>\n",
       "<table border=\"1\" class=\"dataframe\">\n",
       "  <thead>\n",
       "    <tr style=\"text-align: right;\">\n",
       "      <th></th>\n",
       "      <th>text</th>\n",
       "      <th>user</th>\n",
       "      <th>date</th>\n",
       "    </tr>\n",
       "  </thead>\n",
       "  <tbody>\n",
       "    <tr>\n",
       "      <th>0</th>\n",
       "      <td>@MissBianca76 Yes, talking helps a lot.. going...</td>\n",
       "      <td>Killandra</td>\n",
       "      <td>Mon May 18 01:08:27 PDT 2009</td>\n",
       "    </tr>\n",
       "    <tr>\n",
       "      <th>1</th>\n",
       "      <td>SUNSHINE. livingg itttt. imma lie on the grass...</td>\n",
       "      <td>IMlisacowan</td>\n",
       "      <td>Sun May 31 06:23:17 PDT 2009</td>\n",
       "    </tr>\n",
       "    <tr>\n",
       "      <th>2</th>\n",
       "      <td>@PleaseBeMine Something for your iphone</td>\n",
       "      <td>yaseminx3</td>\n",
       "      <td>Mon Jun 01 11:52:54 PDT 2009</td>\n",
       "    </tr>\n",
       "    <tr>\n",
       "      <th>3</th>\n",
       "      <td>@GabrielSaporta couldn't get in to the after p...</td>\n",
       "      <td>no_surprises</td>\n",
       "      <td>Sun May 17 02:45:34 PDT 2009</td>\n",
       "    </tr>\n",
       "    <tr>\n",
       "      <th>4</th>\n",
       "      <td>@bradiewebbstack awww is andy being mean again...</td>\n",
       "      <td>Rhi_ShortStack</td>\n",
       "      <td>Tue Jun 02 00:08:07 PDT 2009</td>\n",
       "    </tr>\n",
       "    <tr>\n",
       "      <th>...</th>\n",
       "      <td>...</td>\n",
       "      <td>...</td>\n",
       "      <td>...</td>\n",
       "    </tr>\n",
       "    <tr>\n",
       "      <th>224989</th>\n",
       "      <td>@Dropsofreign yeah I hope Iran people reach fr...</td>\n",
       "      <td>CynthiaBuroughs</td>\n",
       "      <td>Sat Jun 20 20:36:48 PDT 2009</td>\n",
       "    </tr>\n",
       "    <tr>\n",
       "      <th>224990</th>\n",
       "      <td>Trying the qwerty keypad</td>\n",
       "      <td>unitechy</td>\n",
       "      <td>Mon Jun 01 01:25:45 PDT 2009</td>\n",
       "    </tr>\n",
       "    <tr>\n",
       "      <th>224991</th>\n",
       "      <td>I love Jasper &amp;amp; Jackson but that wig in th...</td>\n",
       "      <td>Xaan</td>\n",
       "      <td>Mon Jun 01 06:38:10 PDT 2009</td>\n",
       "    </tr>\n",
       "    <tr>\n",
       "      <th>224992</th>\n",
       "      <td>I am really tired and bored and bleh! I feel c...</td>\n",
       "      <td>Ginger_Billie</td>\n",
       "      <td>Fri Jun 19 08:51:56 PDT 2009</td>\n",
       "    </tr>\n",
       "    <tr>\n",
       "      <th>224993</th>\n",
       "      <td>@alyshatan good luck!! It sounds interesting t...</td>\n",
       "      <td>kevin_choo</td>\n",
       "      <td>Wed Jun 03 06:00:29 PDT 2009</td>\n",
       "    </tr>\n",
       "  </tbody>\n",
       "</table>\n",
       "<p>224994 rows × 3 columns</p>\n",
       "</div>"
      ],
      "text/plain": [
       "                                                     text             user  \\\n",
       "0       @MissBianca76 Yes, talking helps a lot.. going...        Killandra   \n",
       "1       SUNSHINE. livingg itttt. imma lie on the grass...      IMlisacowan   \n",
       "2                @PleaseBeMine Something for your iphone         yaseminx3   \n",
       "3       @GabrielSaporta couldn't get in to the after p...     no_surprises   \n",
       "4       @bradiewebbstack awww is andy being mean again...   Rhi_ShortStack   \n",
       "...                                                   ...              ...   \n",
       "224989  @Dropsofreign yeah I hope Iran people reach fr...  CynthiaBuroughs   \n",
       "224990                          Trying the qwerty keypad          unitechy   \n",
       "224991  I love Jasper &amp; Jackson but that wig in th...             Xaan   \n",
       "224992  I am really tired and bored and bleh! I feel c...    Ginger_Billie   \n",
       "224993  @alyshatan good luck!! It sounds interesting t...       kevin_choo   \n",
       "\n",
       "                                date  \n",
       "0       Mon May 18 01:08:27 PDT 2009  \n",
       "1       Sun May 31 06:23:17 PDT 2009  \n",
       "2       Mon Jun 01 11:52:54 PDT 2009  \n",
       "3       Sun May 17 02:45:34 PDT 2009  \n",
       "4       Tue Jun 02 00:08:07 PDT 2009  \n",
       "...                              ...  \n",
       "224989  Sat Jun 20 20:36:48 PDT 2009  \n",
       "224990  Mon Jun 01 01:25:45 PDT 2009  \n",
       "224991  Mon Jun 01 06:38:10 PDT 2009  \n",
       "224992  Fri Jun 19 08:51:56 PDT 2009  \n",
       "224993  Wed Jun 03 06:00:29 PDT 2009  \n",
       "\n",
       "[224994 rows x 3 columns]"
      ]
     },
     "execution_count": 4,
     "metadata": {},
     "output_type": "execute_result"
    }
   ],
   "source": [
    "X "
   ]
  },
  {
   "cell_type": "code",
   "execution_count": 5,
   "id": "70a82d14",
   "metadata": {},
   "outputs": [],
   "source": [
    "import re\n",
    "\n",
    "\n",
    "for index, row in X.iterrows():\n",
    "    row['text'] = re.sub('@\\S+', ' ', row['text']) #removing @ from names\n",
    "    row['date'] = re.sub()"
   ]
  },
  {
   "cell_type": "code",
   "execution_count": 6,
   "id": "10b9f2cb",
   "metadata": {
    "scrolled": true
   },
   "outputs": [
    {
     "data": {
      "text/html": [
       "<div>\n",
       "<style scoped>\n",
       "    .dataframe tbody tr th:only-of-type {\n",
       "        vertical-align: middle;\n",
       "    }\n",
       "\n",
       "    .dataframe tbody tr th {\n",
       "        vertical-align: top;\n",
       "    }\n",
       "\n",
       "    .dataframe thead th {\n",
       "        text-align: right;\n",
       "    }\n",
       "</style>\n",
       "<table border=\"1\" class=\"dataframe\">\n",
       "  <thead>\n",
       "    <tr style=\"text-align: right;\">\n",
       "      <th></th>\n",
       "      <th>text</th>\n",
       "      <th>user</th>\n",
       "      <th>date</th>\n",
       "    </tr>\n",
       "  </thead>\n",
       "  <tbody>\n",
       "    <tr>\n",
       "      <th>0</th>\n",
       "      <td>Yes, talking helps a lot.. going through it,...</td>\n",
       "      <td>Killandra</td>\n",
       "      <td>Mon May 18 01:08:27 PDT 2009</td>\n",
       "    </tr>\n",
       "    <tr>\n",
       "      <th>1</th>\n",
       "      <td>SUNSHINE. livingg itttt. imma lie on the grass...</td>\n",
       "      <td>IMlisacowan</td>\n",
       "      <td>Sun May 31 06:23:17 PDT 2009</td>\n",
       "    </tr>\n",
       "    <tr>\n",
       "      <th>2</th>\n",
       "      <td>Something for your iphone</td>\n",
       "      <td>yaseminx3</td>\n",
       "      <td>Mon Jun 01 11:52:54 PDT 2009</td>\n",
       "    </tr>\n",
       "    <tr>\n",
       "      <th>3</th>\n",
       "      <td>couldn't get in to the after party.</td>\n",
       "      <td>no_surprises</td>\n",
       "      <td>Sun May 17 02:45:34 PDT 2009</td>\n",
       "    </tr>\n",
       "    <tr>\n",
       "      <th>4</th>\n",
       "      <td>awww is andy being mean again?  Now i want m...</td>\n",
       "      <td>Rhi_ShortStack</td>\n",
       "      <td>Tue Jun 02 00:08:07 PDT 2009</td>\n",
       "    </tr>\n",
       "    <tr>\n",
       "      <th>...</th>\n",
       "      <td>...</td>\n",
       "      <td>...</td>\n",
       "      <td>...</td>\n",
       "    </tr>\n",
       "    <tr>\n",
       "      <th>224989</th>\n",
       "      <td>yeah I hope Iran people reach freedom... the...</td>\n",
       "      <td>CynthiaBuroughs</td>\n",
       "      <td>Sat Jun 20 20:36:48 PDT 2009</td>\n",
       "    </tr>\n",
       "    <tr>\n",
       "      <th>224990</th>\n",
       "      <td>Trying the qwerty keypad</td>\n",
       "      <td>unitechy</td>\n",
       "      <td>Mon Jun 01 01:25:45 PDT 2009</td>\n",
       "    </tr>\n",
       "    <tr>\n",
       "      <th>224991</th>\n",
       "      <td>I love Jasper &amp;amp; Jackson but that wig in th...</td>\n",
       "      <td>Xaan</td>\n",
       "      <td>Mon Jun 01 06:38:10 PDT 2009</td>\n",
       "    </tr>\n",
       "    <tr>\n",
       "      <th>224992</th>\n",
       "      <td>I am really tired and bored and bleh! I feel c...</td>\n",
       "      <td>Ginger_Billie</td>\n",
       "      <td>Fri Jun 19 08:51:56 PDT 2009</td>\n",
       "    </tr>\n",
       "    <tr>\n",
       "      <th>224993</th>\n",
       "      <td>good luck!! It sounds interesting though</td>\n",
       "      <td>kevin_choo</td>\n",
       "      <td>Wed Jun 03 06:00:29 PDT 2009</td>\n",
       "    </tr>\n",
       "  </tbody>\n",
       "</table>\n",
       "<p>224994 rows × 3 columns</p>\n",
       "</div>"
      ],
      "text/plain": [
       "                                                     text             user  \\\n",
       "0         Yes, talking helps a lot.. going through it,...        Killandra   \n",
       "1       SUNSHINE. livingg itttt. imma lie on the grass...      IMlisacowan   \n",
       "2                              Something for your iphone         yaseminx3   \n",
       "3                    couldn't get in to the after party.      no_surprises   \n",
       "4         awww is andy being mean again?  Now i want m...   Rhi_ShortStack   \n",
       "...                                                   ...              ...   \n",
       "224989    yeah I hope Iran people reach freedom... the...  CynthiaBuroughs   \n",
       "224990                          Trying the qwerty keypad          unitechy   \n",
       "224991  I love Jasper &amp; Jackson but that wig in th...             Xaan   \n",
       "224992  I am really tired and bored and bleh! I feel c...    Ginger_Billie   \n",
       "224993          good luck!! It sounds interesting though        kevin_choo   \n",
       "\n",
       "                                date  \n",
       "0       Mon May 18 01:08:27 PDT 2009  \n",
       "1       Sun May 31 06:23:17 PDT 2009  \n",
       "2       Mon Jun 01 11:52:54 PDT 2009  \n",
       "3       Sun May 17 02:45:34 PDT 2009  \n",
       "4       Tue Jun 02 00:08:07 PDT 2009  \n",
       "...                              ...  \n",
       "224989  Sat Jun 20 20:36:48 PDT 2009  \n",
       "224990  Mon Jun 01 01:25:45 PDT 2009  \n",
       "224991  Mon Jun 01 06:38:10 PDT 2009  \n",
       "224992  Fri Jun 19 08:51:56 PDT 2009  \n",
       "224993  Wed Jun 03 06:00:29 PDT 2009  \n",
       "\n",
       "[224994 rows x 3 columns]"
      ]
     },
     "execution_count": 6,
     "metadata": {},
     "output_type": "execute_result"
    }
   ],
   "source": [
    "X"
   ]
  },
  {
   "cell_type": "code",
   "execution_count": 7,
   "id": "6607b632",
   "metadata": {},
   "outputs": [],
   "source": [
    "tfid = TfidfVectorizer(max_df= 0.40, min_df=0)#0.50 #0.80 , performa bene anche con 0.40 #piu' alzo min_df più funziona male #0.005 buono #provare con 0.001 e 0.0005 (0.00005  consegnato)(0.00001  consegnato 2)\n",
    "X = tfid.fit_transform(X.text, X.user) "
   ]
  },
  {
   "cell_type": "code",
   "execution_count": 8,
   "id": "aa6b5aab",
   "metadata": {},
   "outputs": [
    {
     "data": {
      "text/plain": [
       "<224994x88150 sparse matrix of type '<class 'numpy.float64'>'\n",
       "\twith 2591822 stored elements in Compressed Sparse Row format>"
      ]
     },
     "execution_count": 8,
     "metadata": {},
     "output_type": "execute_result"
    }
   ],
   "source": [
    "X"
   ]
  },
  {
   "cell_type": "code",
   "execution_count": 9,
   "id": "9cdefe01",
   "metadata": {},
   "outputs": [],
   "source": [
    "#try usng multiple features? add user name"
   ]
  },
  {
   "cell_type": "code",
   "execution_count": 45,
   "id": "52d71a70",
   "metadata": {},
   "outputs": [],
   "source": [
    "X_train, X_test, y_train, y_test = train_test_split(X, y, test_size=0.25, random_state=77)"
   ]
  },
  {
   "cell_type": "code",
   "execution_count": 32,
   "id": "6fd15d72",
   "metadata": {},
   "outputs": [],
   "source": [
    "logistic_regression = LogisticRegression(penalty='l2', random_state=42, C=4,fit_intercept= True, max_iter= 500, solver= 'liblinear')"
   ]
  },
  {
   "cell_type": "code",
   "execution_count": 33,
   "id": "964235fa",
   "metadata": {},
   "outputs": [
    {
     "name": "stdout",
     "output_type": "stream",
     "text": [
      "f1_macro: 0.779 (+/- 0.006)\n"
     ]
    }
   ],
   "source": [
    "cv_scores = cross_val_score(logistic_regression, X_train, y_train, cv=5, scoring='f1_macro', n_jobs=-1)\n",
    "\n",
    "\n",
    "mean = cv_scores.mean()\n",
    "std = cv_scores.std() * 2\n",
    "print(f\"f1_macro: {mean:.3f} (+/- {std:.3f})\")"
   ]
  },
  {
   "cell_type": "code",
   "execution_count": 13,
   "id": "baf027bd",
   "metadata": {},
   "outputs": [],
   "source": [
    "#logistic_regression.fit(X_train, y_train)"
   ]
  },
  {
   "cell_type": "code",
   "execution_count": 14,
   "id": "8034b62c",
   "metadata": {},
   "outputs": [],
   "source": [
    "#y_pred = logistic_regression.predict(X_test)"
   ]
  },
  {
   "cell_type": "code",
   "execution_count": 15,
   "id": "9cfaa1df",
   "metadata": {},
   "outputs": [],
   "source": [
    "#y_pred"
   ]
  },
  {
   "cell_type": "code",
   "execution_count": 16,
   "id": "badcd919",
   "metadata": {},
   "outputs": [],
   "source": [
    "#y_test = list(y_test['sentiment'])"
   ]
  },
  {
   "cell_type": "code",
   "execution_count": 17,
   "id": "6c3c415c",
   "metadata": {},
   "outputs": [],
   "source": [
    "#y_test #printing list of our test sentiment values"
   ]
  },
  {
   "cell_type": "code",
   "execution_count": 18,
   "id": "cce00cc2",
   "metadata": {},
   "outputs": [],
   "source": [
    "#y_pred = list(y_pred)"
   ]
  },
  {
   "cell_type": "code",
   "execution_count": 19,
   "id": "772ecd51",
   "metadata": {},
   "outputs": [],
   "source": [
    "#y_pred #printing list of our predictions made"
   ]
  },
  {
   "cell_type": "code",
   "execution_count": 20,
   "id": "a356f69f",
   "metadata": {},
   "outputs": [],
   "source": [
    "#Linear SVC"
   ]
  },
  {
   "cell_type": "code",
   "execution_count": 49,
   "id": "b513afbe",
   "metadata": {},
   "outputs": [],
   "source": [
    "linear_svc = LinearSVC(random_state=77, penalty=\"l2\")\n",
    "\n",
    "#param_grid = {'loss': ['hinge', 'squared_hinge'], 'fit_intercept': [True, False], 'C': list(range(1,10,2))}\n",
    "\n",
    "#gridSearch = GridSearchCV(linear_svc, param_grid, scoring='f1_weighted', cv=5, n_jobs=-1)\n",
    "\n",
    "#gridSearch.fit(X_train, y_train)\n",
    "\n",
    "#print(gridSearch.best_params_)"
   ]
  },
  {
   "cell_type": "code",
   "execution_count": 50,
   "id": "ac775c7d",
   "metadata": {},
   "outputs": [
    {
     "name": "stdout",
     "output_type": "stream",
     "text": [
      "f1_macro: 0.772 (+/- 0.002)\n"
     ]
    }
   ],
   "source": [
    "#Liline\n",
    "cv_scores = cross_val_score(linear_svc, X_train, y_train, cv=5, scoring='f1_macro', n_jobs=-1)\n",
    "\n",
    "mean = cv_scores.mean()\n",
    "std = cv_scores.std() * 2\n",
    "print(f\"f1_macro: {mean:.3f} (+/- {std:.3f})\")"
   ]
  },
  {
   "cell_type": "code",
   "execution_count": null,
   "id": "252a273f",
   "metadata": {},
   "outputs": [],
   "source": [
    "#from sklearn.metrics import accuracy_score"
   ]
  },
  {
   "cell_type": "code",
   "execution_count": null,
   "id": "376eb2be",
   "metadata": {},
   "outputs": [],
   "source": [
    "#accuracy_score(y_test, y_pred)"
   ]
  },
  {
   "cell_type": "code",
   "execution_count": null,
   "id": "6b064677",
   "metadata": {},
   "outputs": [],
   "source": [
    "from sklearn.model_selection import cross_val_score\n",
    "cv_scores = cross_val_score(logistic_regression, X_train, y_train, cv=5, scoring='f1_macro', n_jobs=-1)\n",
    "\n",
    "\n",
    "mean = cv_scores.mean()\n",
    "std = cv_scores.std() * 2\n",
    "print(f\"f1_macro: {mean:.3f} (+/- {std:.3f})\")"
   ]
  },
  {
   "cell_type": "code",
   "execution_count": null,
   "id": "87950f62",
   "metadata": {},
   "outputs": [],
   "source": [
    "#from sklearn.neighbors import KNeighborsClassifier"
   ]
  },
  {
   "cell_type": "code",
   "execution_count": null,
   "id": "df9afe75",
   "metadata": {},
   "outputs": [],
   "source": [
    "# neigh = KNeighborsClassifier(n_neighbors=3)"
   ]
  },
  {
   "cell_type": "code",
   "execution_count": null,
   "id": "4a3d532e",
   "metadata": {},
   "outputs": [],
   "source": [
    "# neigh.fit(X_train, y_train)"
   ]
  },
  {
   "cell_type": "code",
   "execution_count": null,
   "id": "ad8d2f01",
   "metadata": {},
   "outputs": [],
   "source": [
    "# y_pred = neigh.predict(X_test)"
   ]
  },
  {
   "cell_type": "code",
   "execution_count": null,
   "id": "34d4b534",
   "metadata": {},
   "outputs": [],
   "source": [
    "# accuracy_score(y_test, y_pred)"
   ]
  },
  {
   "cell_type": "code",
   "execution_count": null,
   "id": "d706d61d",
   "metadata": {},
   "outputs": [],
   "source": [
    "#from sklearn.neural_network import MLPClassifier"
   ]
  },
  {
   "cell_type": "code",
   "execution_count": null,
   "id": "8fe47c2a",
   "metadata": {},
   "outputs": [],
   "source": [
    "\"\"\"\n",
    "clf = MLPClassifier(solver='lbfgs', alpha=1e-5, hidden_layer_sizes=(5, 2), random_state=1)\n",
    "clf.fit(X_train, y_train)\n",
    "y_pred = clf.predict(X_test)\n",
    "\"\"\""
   ]
  },
  {
   "cell_type": "code",
   "execution_count": null,
   "id": "14f97a20",
   "metadata": {},
   "outputs": [],
   "source": [
    "#accuracy_score(y_test, y_pred)"
   ]
  },
  {
   "cell_type": "code",
   "execution_count": null,
   "id": "c07edf1f",
   "metadata": {},
   "outputs": [],
   "source": [
    "\"\"\"\n",
    "from sklearn.model_selection import cross_val_score\n",
    "cv_scores = cross_val_score(clf, X_train, y_train, cv=5, scoring='f1_macro', n_jobs=-1)\n",
    "\n",
    "\n",
    "mean = cv_scores.mean()\n",
    "std = cv_scores.std() * 2\n",
    "print(f\"f1_macro: {mean:.3f} (+/- {std:.3f})\n",
    "\"\"\""
   ]
  },
  {
   "cell_type": "code",
   "execution_count": null,
   "id": "62f54f06",
   "metadata": {},
   "outputs": [],
   "source": [
    "#from sklearn.ensemble import RandomForestClassifier"
   ]
  },
  {
   "cell_type": "code",
   "execution_count": null,
   "id": "8dadb3e3",
   "metadata": {},
   "outputs": [],
   "source": [
    "\"\"\"\n",
    "clf = RandomForestClassifier()\n",
    "clf.fit(X_train, y_train)\n",
    "y_pred = clf.predict(X_test)\n",
    "\"\"\""
   ]
  },
  {
   "cell_type": "code",
   "execution_count": null,
   "id": "1003e24f",
   "metadata": {},
   "outputs": [],
   "source": [
    "#accuracy_score(y_test, y_pred)"
   ]
  },
  {
   "cell_type": "code",
   "execution_count": null,
   "id": "9f986dab",
   "metadata": {},
   "outputs": [],
   "source": [
    "mean = cv_scores.mean()\n",
    "std = cv_scores.std() * 2\n",
    "print(f\"f1_macro: {mean:.3f} (+/- {std:.3f})\")"
   ]
  },
  {
   "cell_type": "code",
   "execution_count": null,
   "id": "9e9b2aaf",
   "metadata": {},
   "outputs": [],
   "source": [
    "#Let me try using regression and rounding the results to the nearest value (since regression predicts continous varibales)\n",
    "\n",
    "from sklearn.linear_model import LinearRegression"
   ]
  },
  {
   "cell_type": "code",
   "execution_count": null,
   "id": "12bf698e",
   "metadata": {},
   "outputs": [],
   "source": [
    "clf = LinearRegression()\n",
    "clf.fit(X_train, y_train)\n",
    "y_pred = clf.predict(X_test)"
   ]
  },
  {
   "cell_type": "code",
   "execution_count": null,
   "id": "413583eb",
   "metadata": {},
   "outputs": [],
   "source": [
    "y_pred;"
   ]
  },
  {
   "cell_type": "code",
   "execution_count": null,
   "id": "b7684a16",
   "metadata": {},
   "outputs": [],
   "source": [
    "y_pred = list(y_pred)\n",
    "\n",
    "for i in range(len(y_pred)):\n",
    "    \n",
    "    \n",
    "    if y_pred[i] < .5:\n",
    "        y_pred[i] = 0\n",
    "    else:\n",
    "        y_pred[i] = 1"
   ]
  },
  {
   "cell_type": "code",
   "execution_count": null,
   "id": "59d355ce",
   "metadata": {},
   "outputs": [],
   "source": [
    "y_pred;"
   ]
  },
  {
   "cell_type": "code",
   "execution_count": null,
   "id": "4539c892",
   "metadata": {},
   "outputs": [],
   "source": [
    "accuracy_score(y_test, y_pred)"
   ]
  },
  {
   "cell_type": "code",
   "execution_count": null,
   "id": "6f6bf11a",
   "metadata": {},
   "outputs": [],
   "source": [
    "from sklearn.model_selection import cross_val_score\n",
    "cv_scores = cross_val_score(clf, X_train, y_train, cv=5, scoring='f1_macro', n_jobs=-1)\n",
    "\n",
    "\n",
    "mean = cv_scores.mean()\n",
    "std = cv_scores.std() * 2\n",
    "print(f\"f1_macro: {mean:.3f} (+/- {std:.3f})\")"
   ]
  },
  {
   "cell_type": "code",
   "execution_count": null,
   "id": "b890fee0",
   "metadata": {},
   "outputs": [],
   "source": []
  },
  {
   "cell_type": "code",
   "execution_count": null,
   "id": "be4e8436",
   "metadata": {},
   "outputs": [],
   "source": []
  },
  {
   "cell_type": "code",
   "execution_count": null,
   "id": "55af06d3",
   "metadata": {},
   "outputs": [],
   "source": []
  },
  {
   "cell_type": "code",
   "execution_count": null,
   "id": "3cd7f1f4",
   "metadata": {},
   "outputs": [],
   "source": []
  },
  {
   "cell_type": "code",
   "execution_count": null,
   "id": "18a0beb6",
   "metadata": {},
   "outputs": [],
   "source": []
  },
  {
   "cell_type": "code",
   "execution_count": null,
   "id": "9bd0bbb6",
   "metadata": {},
   "outputs": [],
   "source": []
  },
  {
   "cell_type": "code",
   "execution_count": null,
   "id": "80e1acd5",
   "metadata": {},
   "outputs": [],
   "source": []
  },
  {
   "cell_type": "code",
   "execution_count": null,
   "id": "d70420dd",
   "metadata": {},
   "outputs": [],
   "source": []
  },
  {
   "cell_type": "code",
   "execution_count": null,
   "id": "118bd5ef",
   "metadata": {},
   "outputs": [],
   "source": []
  },
  {
   "cell_type": "code",
   "execution_count": null,
   "id": "2477dee8",
   "metadata": {},
   "outputs": [],
   "source": []
  }
 ],
 "metadata": {
  "kernelspec": {
   "display_name": "Python 3",
   "language": "python",
   "name": "python3"
  },
  "language_info": {
   "codemirror_mode": {
    "name": "ipython",
    "version": 3
   },
   "file_extension": ".py",
   "mimetype": "text/x-python",
   "name": "python",
   "nbconvert_exporter": "python",
   "pygments_lexer": "ipython3",
   "version": "3.8.8"
  }
 },
 "nbformat": 4,
 "nbformat_minor": 5
}
