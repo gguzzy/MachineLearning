{
  "nbformat": 4,
  "nbformat_minor": 0,
  "metadata": {
    "colab": {
      "provenance": []
    },
    "kernelspec": {
      "name": "python3",
      "display_name": "Python 3"
    },
    "language_info": {
      "name": "python"
    }
  },
  "cells": [
    {
      "cell_type": "markdown",
      "source": [
        "# LABORATORY 02\n"
      ],
      "metadata": {
        "id": "jFs52YcOsIEY"
      }
    },
    {
      "cell_type": "markdown",
      "source": [
        "### Intro - Matplotlib"
      ],
      "metadata": {
        "id": "FkH4sFaHseSx"
      }
    },
    {
      "cell_type": "code",
      "source": [
        "#in this example gauss just to use a random distribution for graph\n",
        "\n",
        "from random import gauss\n",
        "import matplotlib.pyplot as plt\n",
        "%matplotlib inline\n",
        "\n",
        "list_values = [ gauss(0,1) for _ in range(500)]\n",
        "plt.hist(list_values)\n",
        "plt.title('Gaussian distribution (mu=0, sigma=1)')\n",
        "plt.show()"
      ],
      "metadata": {
        "colab": {
          "base_uri": "https://localhost:8080/",
          "height": 281
        },
        "id": "CN66-4gcsg0K",
        "outputId": "d7e6a0e8-db9b-4982-d443-b4b6bffbe40e"
      },
      "execution_count": null,
      "outputs": [
        {
          "output_type": "display_data",
          "data": {
            "text/plain": [
              "<Figure size 432x288 with 1 Axes>"
            ],
            "image/png": "[encoded data removed]"
          },
          "metadata": {
            "needs_background": "light"
          }
        }
      ]
    },
    {
      "cell_type": "markdown",
      "source": [
        "### GLT GLOBAL LAND TEMPERATURE"
      ],
      "metadata": {
        "id": "XmKq7ccctLSf"
      }
    },
    {
      "cell_type": "markdown",
      "source": [],
      "metadata": {
        "id": "CmcyzaKItWgI"
      }
    },
    {
      "cell_type": "markdown",
      "source": [
        "Downloading the dataset as usual using commandline collab tools."
      ],
      "metadata": {
        "id": "kULpd6C_tWlU"
      }
    },
    {
      "cell_type": "code",
      "source": [
        "!wget \"https://raw.githubusercontent.com/dbdmg/data-science-lab/master/datasets/GLT_filtered.csv\" -O glt_data.csv"
      ],
      "metadata": {
        "colab": {
          "base_uri": "https://localhost:8080/"
        },
        "id": "bFLotemXtVRI",
        "outputId": "c466fd81-79ea-4bbe-c306-d44485b3b6ec"
      },
      "execution_count": null,
      "outputs": [
        {
          "output_type": "stream",
          "name": "stdout",
          "text": [
            "--2022-10-20 16:01:00--  https://raw.githubusercontent.com/dbdmg/data-science-lab/master/datasets/GLT_filtered.csv\n",
            "Resolving raw.githubusercontent.com (raw.githubusercontent.com)... 185.199.108.133, 185.199.109.133, 185.199.110.133, ...\n",
            "Connecting to raw.githubusercontent.com (raw.githubusercontent.com)|185.199.108.133|:443... connected.\n",
            "HTTP request sent, awaiting response... 200 OK\n",
            "Length: 12720645 (12M) [text/plain]\n",
            "Saving to: ‘glt_data.csv’\n",
            "\n",
            "glt_data.csv        100%[===================>]  12.13M  --.-KB/s    in 0.06s   \n",
            "\n",
            "2022-10-20 16:01:02 (218 MB/s) - ‘glt_data.csv’ saved [12720645/12720645]\n",
            "\n"
          ]
        }
      ]
    },
    {
      "cell_type": "code",
      "source": [
        "import csv\n",
        "\n",
        "dataset_glt = []\n",
        "\n",
        "with open('glt_data.csv') as db:\n",
        "  dataset_glt = [ data for data in db]\n",
        "\n",
        "# Characteristics of our dataset\n",
        "# Size of our dataset\n",
        "len(dataset_glt)"
      ],
      "metadata": {
        "colab": {
          "base_uri": "https://localhost:8080/"
        },
        "id": "h915A-wUtjIR",
        "outputId": "81ef18af-b717-4db2-cb12-32aa9ced126d"
      },
      "execution_count": null,
      "outputs": [
        {
          "output_type": "execute_result",
          "data": {
            "text/plain": [
              "219576"
            ]
          },
          "metadata": {},
          "execution_count": 4
        }
      ]
    },
    {
      "cell_type": "markdown",
      "source": [
        "We observe some data is not clean, and also that there are some missing values within our dataset. \n",
        "\n",
        "We can augment our data inserting instead of null or missing values other values which can be established using three different approaches:\n",
        "\n",
        "1. Delete that row based if missing is represent or not (brute approach)\n",
        "\n",
        "2.1. Fill missing values using the mean (or the median) of the involved attribute. \n",
        " \n",
        "2.2. Fill with values of adjacent rows, by averaging them (only possible if mean is computable). "
      ],
      "metadata": {
        "id": "6gtbpKnQuy3q"
      }
    },
    {
      "cell_type": "markdown",
      "source": [
        "Exercise 1. Load the Global Land Temperature dataset as a list of lists. Before starting, take a moment to better inspect the attributes you are going to work on. How many of them are nominal, how many\n",
        "continuous or discrete?\n",
        "\n"
      ],
      "metadata": {
        "id": "2Plch4PfvqaS"
      }
    },
    {
      "cell_type": "code",
      "source": [
        "type(dataset_glt)"
      ],
      "metadata": {
        "id": "btWq43iUv1YF",
        "outputId": "8c90d5ca-9407-4a3b-ece6-312bd7f0997e",
        "colab": {
          "base_uri": "https://localhost:8080/"
        }
      },
      "execution_count": null,
      "outputs": [
        {
          "output_type": "execute_result",
          "data": {
            "text/plain": [
              "list"
            ]
          },
          "metadata": {},
          "execution_count": 5
        }
      ]
    },
    {
      "cell_type": "code",
      "source": [
        "#printing only from row 0 to 4\n",
        "\n",
        "print(dataset_glt[0:4])"
      ],
      "metadata": {
        "colab": {
          "base_uri": "https://localhost:8080/"
        },
        "id": "6n5Os7d4ODvG",
        "outputId": "8e3990c0-ead4-4cf2-ea8c-7f664acc743f"
      },
      "execution_count": null,
      "outputs": [
        {
          "output_type": "stream",
          "name": "stdout",
          "text": [
            "['Date,AverageTemperature,AverageTemperatureUncertainty,City,Country,Latitude,Longitude\\n', \"1849-01-01,26.704,1.435,Abidjan,Côte D'Ivoire,5.63N,3.23W\\n\", \"1849-02-01,27.434,1.3619999999999999,Abidjan,Côte D'Ivoire,5.63N,3.23W\\n\", \"1849-03-01,,,Abidjan,Côte D'Ivoire,5.63N,3.23W\\n\"]\n"
          ]
        }
      ]
    },
    {
      "cell_type": "markdown",
      "source": [
        "As we can see the first row contains our feature names, respectively:\n",
        "\n",
        "- Date: ordinal since distinctness and order\n",
        "- AverageTemperature: continuous\n",
        "- AverageTemperatureUncertainty: continous \n",
        "- City: nominal\n",
        "- Country: nominal\n",
        "- Latitude: nominal\n",
        "- Longitude: nominal"
      ],
      "metadata": {
        "id": "DY-w_Layvvi8"
      }
    },
    {
      "cell_type": "markdown",
      "source": [
        "The file contains an header so we need to remove it, and we define a new way to open and store the dataset."
      ],
      "metadata": {
        "id": "HSbrnF_hQHde"
      }
    },
    {
      "cell_type": "code",
      "source": [
        "import csv\n",
        "\n",
        "col_names = []\n",
        "dataset = [[], [], [], [], [], [], []] #storing the dataset in a list of lists\n",
        "with open('glt_data.csv') as fp:\n",
        "    reader = csv.reader(fp)\n",
        "    col_names = next(reader)\n",
        "    for cols in reader:\n",
        "        if len(cols) == len(col_names): # every column must be present\n",
        "            for i in range(len(dataset)):\n",
        "                dataset[i].append(cols[i])\n",
        "\n",
        "print(dataset[0][0])\n",
        "print(dataset[0][1])\n",
        "print(dataset[1][0])"
      ],
      "metadata": {
        "colab": {
          "base_uri": "https://localhost:8080/"
        },
        "id": "wc_S10K0QOsz",
        "outputId": "f3f1e1b2-38ed-4134-fa00-830814fe7976"
      },
      "execution_count": null,
      "outputs": [
        {
          "output_type": "stream",
          "name": "stdout",
          "text": [
            "1849-01-01\n",
            "1849-02-01\n",
            "26.704\n"
          ]
        }
      ]
    },
    {
      "cell_type": "markdown",
      "source": [
        "Exercise 2.  Analyze the attribute AverageTemperature, which contains missing values. "
      ],
      "metadata": {
        "id": "Pi0W51xhPOFR"
      }
    },
    {
      "cell_type": "code",
      "source": [
        "#analyzing a few lines"
      ],
      "metadata": {
        "id": "z0m-THMCRm94"
      },
      "execution_count": null,
      "outputs": []
    },
    {
      "cell_type": "code",
      "source": [
        "for i in range(5): #4 lines to be printed for semplicity\n",
        "  for j in range(len(dataset)):\n",
        "    print(f\"{dataset[j][i]} \", end=\"\")\n",
        "  print('')"
      ],
      "metadata": {
        "colab": {
          "base_uri": "https://localhost:8080/"
        },
        "id": "8lSGi0SUPday",
        "outputId": "27bd35f6-4460-46d9-d6b7-d30660a81949"
      },
      "execution_count": null,
      "outputs": [
        {
          "output_type": "stream",
          "name": "stdout",
          "text": [
            "1849-01-01 26.704 1.435 Abidjan Côte D'Ivoire 5.63N 3.23W \n",
            "1849-02-01 27.434 1.3619999999999999 Abidjan Côte D'Ivoire 5.63N 3.23W \n",
            "1849-03-01   Abidjan Côte D'Ivoire 5.63N 3.23W \n",
            "1849-04-01 26.14 1.3869999999999998 Abidjan Côte D'Ivoire 5.63N 3.23W \n",
            "1849-05-01 25.427 1.2 Abidjan Côte D'Ivoire 5.63N 3.23W \n"
          ]
        }
      ]
    },
    {
      "cell_type": "markdown",
      "source": [
        "The total number of rows is:"
      ],
      "metadata": {
        "id": "ejDlaOMZSBQC"
      }
    },
    {
      "cell_type": "code",
      "source": [
        "#counting number of rows of first column/feature of the list\n",
        "number_rows = len(dataset[0])\n",
        "number_rows"
      ],
      "metadata": {
        "colab": {
          "base_uri": "https://localhost:8080/"
        },
        "id": "43kV_LBYSAPL",
        "outputId": "2236d9dd-43e0-4350-b1f1-0efb7890ae07"
      },
      "execution_count": null,
      "outputs": [
        {
          "output_type": "execute_result",
          "data": {
            "text/plain": [
              "219575"
            ]
          },
          "metadata": {},
          "execution_count": 10
        }
      ]
    },
    {
      "cell_type": "markdown",
      "source": [
        "Fill any gap with the arithmetic mean among the closest antecedent and the closest successive measurements in time, taken in the same city. Assume the following rules for edge cases:"
      ],
      "metadata": {
        "id": "EswWLfPFPckS"
      }
    },
    {
      "cell_type": "code",
      "source": [
        "#counting all missing data\n",
        "\n",
        "def count_missing(data):\n",
        "  return sum( [1 for c in data if c==''])"
      ],
      "metadata": {
        "id": "MSFv0d3XMvmA"
      },
      "execution_count": null,
      "outputs": []
    },
    {
      "cell_type": "code",
      "source": [
        "#counting missing data on the average temperature attribute\n",
        "\n",
        "total_count = len(dataset[1])\n",
        "\n",
        "print(f\"Missing values on the attribute Average Temperature is {count_missing(dataset[1])}.\\nHence missing values are out of whole dataset: {100*count_missing(dataset[1])/total_count:.1f}%\")\n",
        "\n",
        "print(f\"Missing values on the attribute Average Temperature Uncertainty is {count_missing(dataset[2])}.\\nHence missing values are out of whole dataset: {100*count_missing(dataset[2])/len(dataset[2]):.1f}%\")"
      ],
      "metadata": {
        "colab": {
          "base_uri": "https://localhost:8080/"
        },
        "id": "J-_hGreFM-iE",
        "outputId": "ee8dedc9-4bff-4a1a-e534-1cb2595194ba"
      },
      "execution_count": null,
      "outputs": [
        {
          "output_type": "stream",
          "name": "stdout",
          "text": [
            "Missing values on the attribute Average Temperature is 27581.\n",
            "Hence missing values are out of whole dataset: 12.6%\n",
            "Missing values on the attribute Average Temperature Uncertainty is 27581.\n",
            "Hence missing values are out of whole dataset: 12.6%\n"
          ]
        }
      ]
    },
    {
      "cell_type": "markdown",
      "source": [
        "Consider this example, try to replicate it.\n",
        "\n",
        "original_list = [ '', 5, 6, '' ]\n",
        "\n",
        "step_1 = [ 2.5, 5, 6, '' ] # (0 + 5) / 2\n",
        "\n",
        "step_2 = [ 2.5, 5, 6, 3 ] # (6 + 0) / 2"
      ],
      "metadata": {
        "id": "NGg-4YinPFtA"
      }
    },
    {
      "cell_type": "markdown",
      "source": [
        "What we need to do is to point to left of the index we are looking at and its right hand part so that we can perform an average between these two values.\n",
        "\n",
        "1. *filling_value* $=\\frac{l+r}{2}$\n"
      ],
      "metadata": {
        "id": "LEFtp6SNeHlz"
      }
    },
    {
      "cell_type": "markdown",
      "source": [
        "VERSION A"
      ],
      "metadata": {
        "id": "heFuHqLcH80-"
      }
    },
    {
      "cell_type": "code",
      "source": [
        "#we load the dataset and fill the gaps\n",
        "\n",
        "#Assume we a list of values\n",
        "def fill_data_gaps_A(data, cities):\n",
        "  right_i = 0\n",
        "  right_v = 0\n",
        "\n",
        "  #enumerate to insert\n",
        "  for i, value in enumerate(data):\n",
        "    if i==0 or cities[i]!=cities[i-1]:\n",
        "      #value in case\n",
        "      #Initial position is 0, behind nothing\n",
        "      #Or restart in case of different city\n",
        "      left_v = 0\n",
        "    else:\n",
        "      left_v = data[i-1] \n",
        "      #otherwise we set initial\n",
        "  #reuse the right_v value, useful where there are multiple consecutive missing values\n",
        "    if i<right_i:\n",
        "      data[i] = (left_v + right_v) / 2\n",
        "      continue\n",
        "\n",
        "    if value == '':\n",
        "      for j in range(i+1, len(data)):\n",
        "        if cities[j]!=cities[i]:\n",
        "          right_v = 0\n",
        "          break\n",
        "        elif data[j] != '':\n",
        "          right_v = float(data[j])\n",
        "          break\n",
        "      #edge case: the last value of the last city is empty\n",
        "      if i==len(data)-1:\n",
        "        right_v = 0\n",
        "\n",
        "      right_i = j\n",
        "      data[i] = (left_v+right_v) / 2\n",
        "    else: \n",
        "      #parsing/casting all present values to float\n",
        "      data[i] = float(data[i])\n",
        "\n"
      ],
      "metadata": {
        "id": "2E4WTTsQPNX0"
      },
      "execution_count": null,
      "outputs": []
    },
    {
      "cell_type": "code",
      "source": [
        "l = ['', '12', '', '', '', '15', '']\n",
        "c = ['Rome', 'Rome', 'Rome', 'Turin', 'Turin', 'Turin', 'Turin']\n",
        "\n",
        "print('Original list:', l)\n",
        "fill_data_gaps_A(l, c)\n",
        "print('Filled list:', l)"
      ],
      "metadata": {
        "id": "aGkcQnHbPFEk",
        "colab": {
          "base_uri": "https://localhost:8080/"
        },
        "outputId": "3860a13f-5140-47b0-9bb7-ad7b754102fe"
      },
      "execution_count": null,
      "outputs": [
        {
          "output_type": "stream",
          "name": "stdout",
          "text": [
            "Original list: ['', '12', '', '', '', '15', '']\n",
            "Filled list: [6.0, 12.0, 6.0, 7.5, 11.25, 15.0, 7.5]\n"
          ]
        }
      ]
    },
    {
      "cell_type": "markdown",
      "source": [
        "Note: this example also lets you reflect on the definition of *mutable and unmutable objects*. Notice that **modifing a list**, one of the mutables in the Python world, in the scope of a function that receives it as parameter, **applies** the **changes** to the **original list**.\n",
        "\n",
        "Let's apply now the function to the lists of interest and verify that there are no more missing values."
      ],
      "metadata": {
        "id": "MOCbz13Fi3st"
      }
    },
    {
      "cell_type": "code",
      "source": [
        "avg_temp = dataset[1]\n",
        "avg_temp_unc = dataset[2]\n",
        "cities = dataset[3]\n",
        "\n",
        "fill_data_gaps_A(avg_temp, cities)\n",
        "fill_data_gaps_A(avg_temp_unc, cities)\n",
        "\n",
        "print('Missing values in AverageTemperature:', sum([1 for v in avg_temp if v == '']))\n",
        "print('Missing values in AverageTemperatureUncertainty:', sum([1 for v in avg_temp_unc if v == '']))"
      ],
      "metadata": {
        "colab": {
          "base_uri": "https://localhost:8080/"
        },
        "id": "FXYxz2MtlMVn",
        "outputId": "3f98cd8c-0f21-46d1-8652-e498a64f17d4"
      },
      "execution_count": null,
      "outputs": [
        {
          "output_type": "stream",
          "name": "stdout",
          "text": [
            "Missing values in AverageTemperature: 0\n",
            "Missing values in AverageTemperatureUncertainty: 0\n"
          ]
        }
      ]
    },
    {
      "cell_type": "markdown",
      "source": [
        "VERSION B"
      ],
      "metadata": {
        "id": "OGKJ77aVIqr0"
      }
    },
    {
      "cell_type": "markdown",
      "source": [
        "Even if this solution works, it is tailored to the way the input file is organized. What if the sorting keys were inverted, i.e. data were sorted by Date and then by City name? Working with positional indices this way would have been much more complex. Version B overcomes this eventual problem."
      ],
      "metadata": {
        "id": "nOTwbABFlbcQ"
      }
    },
    {
      "cell_type": "code",
      "source": [
        "cities = set(dataset[3])\n",
        "print('Number of distinct cities:', len(cities))"
      ],
      "metadata": {
        "colab": {
          "base_uri": "https://localhost:8080/"
        },
        "id": "YGFg8QPWlgFa",
        "outputId": "a25cfb5b-ebc2-47fe-ce51-e88f8e4556cf"
      },
      "execution_count": null,
      "outputs": [
        {
          "output_type": "stream",
          "name": "stdout",
          "text": [
            "Number of distinct cities: 100\n"
          ]
        }
      ]
    },
    {
      "cell_type": "code",
      "source": [
        "city_avg_temp = {}\n",
        "city_avg_temp_unc = {}\n",
        "\n",
        "for city in cities:\n",
        "    idxs = [i for i, c in enumerate(dataset[3]) if c == city] # extract the indices\n",
        "    city_avg_temp[city] = [dataset[1][i] for i in idxs]\n",
        "    city_avg_temp_unc[city] = [dataset[2][i] for i in idxs]                                 \n"
      ],
      "metadata": {
        "id": "dm1rLOfZllFc"
      },
      "execution_count": null,
      "outputs": []
    },
    {
      "cell_type": "markdown",
      "source": [
        "\n",
        "### IMDs \n",
        "\n",
        "In this laboratory we are going to analyse sentiment analyses on text reviews about movies."
      ],
      "metadata": {
        "id": "9YfP4J8Asdfi"
      }
    },
    {
      "cell_type": "code",
      "source": [],
      "metadata": {
        "id": "Psdql07SsZHK"
      },
      "execution_count": null,
      "outputs": []
    },
    {
      "cell_type": "code",
      "execution_count": null,
      "metadata": {
        "id": "apOtgWZqsDZO"
      },
      "outputs": [],
      "source": []
    }
  ]
}