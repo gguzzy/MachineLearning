{
  "nbformat": 4,
  "nbformat_minor": 0,
  "metadata": {
    "colab": {
      "provenance": []
    },
    "kernelspec": {
      "name": "python3",
      "display_name": "Python 3"
    },
    "language_info": {
      "name": "python"
    }
  },
  "cells": [
    {
      "cell_type": "markdown",
      "source": [
        "# **Data science lab**\n",
        "### Laboratory number: 2\n",
        "\n",
        "This laboratory is concerned of data preparation process, we will cope task using tabular and textual input data; so here we will cover how to handle those anomalies, as well.\n"
      ],
      "metadata": {
        "id": "Fj-TG_bjWUZ-"
      }
    },
    {
      "cell_type": "markdown",
      "source": [
        "Here in this lab we need the library *matplotlib*"
      ],
      "metadata": {
        "id": "j09xgyoCXNpZ"
      }
    },
    {
      "cell_type": "markdown",
      "source": [
        "Below a snippet of code on how to plot a gaussian distribution as an histogram (recall an histogram represents distribution of numerical data)"
      ],
      "metadata": {
        "id": "s54uq2dFXbaU"
      }
    },
    {
      "cell_type": "code",
      "source": [
        "#importing the gaussian distribution\n",
        "from random import gauss\n",
        "import matplotlib.pyplot as plt\n",
        "#if jupyter notebook recall to add the following line after adding the plotting library.\n",
        "# %matplotlib inline\n",
        "#where 0 and 1 are the parameters mu and sigma\n",
        "l = [gauss(0,1) for _ in range(500) ] #list comprehension to do gaussian distributuon on 500 points\n",
        "plt.hist(l)\n",
        "plt.title('Gaussian distribution (mu=0, sigma=1)')\n",
        "plt.show() #show actual plot as hold on in MATLAB"
      ],
      "metadata": {
        "colab": {
          "base_uri": "https://localhost:8080/",
          "height": 281
        },
        "id": "rrmN6yeaXa2v",
        "outputId": "35ca9585-d4c4-4027-9f76-d274de3be1ae"
      },
      "execution_count": null,
      "outputs": [
        {
          "output_type": "display_data",
          "data": {
            "text/plain": [
              "<Figure size 432x288 with 1 Axes>"
            ],
            "image/png": "[encoded data removed]"
          },
          "metadata": {
            "needs_background": "light"
          }
        }
      ]
    },
    {
      "cell_type": "markdown",
      "source": [
        "1. In this first exercise we are going to open a dataset from GLT (Global Land Temperature) a large collection of measurements actively mantained by Berkeley Earth.\n",
        "\n",
        "It contains the raw source of all stations all around the globe. \n",
        "\n",
        "The datast is composed of 200k+ rows, where we have the following features:\n",
        "\n",
        "\n",
        "*   Date, when the measurement was taken\n",
        "*   Average Temperature\n",
        "* Average temperature uncertainty\n",
        "* City, from which the measurement was taken\n",
        "* Latitude\n",
        "* Longitude\n",
        "\n"
      ],
      "metadata": {
        "id": "kYUHKtpmYrqn"
      }
    },
    {
      "cell_type": "markdown",
      "source": [
        "Now we need to retrieve out dataset from the following link:\n",
        "https://raw.githubusercontent.com/dbdmg/data-science-lab/master/datasets/GLT_filtered.csv"
      ],
      "metadata": {
        "id": "KOkrGa-QZ3yo"
      }
    },
    {
      "cell_type": "code",
      "source": [
        "!pip install wget"
      ],
      "metadata": {
        "colab": {
          "base_uri": "https://localhost:8080/"
        },
        "id": "PfaXytVeaYS1",
        "outputId": "0a2b05c2-355a-4b93-9d9b-8baa7068cfbc"
      },
      "execution_count": null,
      "outputs": [
        {
          "output_type": "stream",
          "name": "stdout",
          "text": [
            "Looking in indexes: https://pypi.org/simple, https://us-python.pkg.dev/colab-wheels/public/simple/\n",
            "Collecting wget\n",
            "  Downloading wget-3.2.zip (10 kB)\n",
            "Building wheels for collected packages: wget\n",
            "  Building wheel for wget (setup.py) ... \u001b[?25l\u001b[?25hdone\n",
            "  Created wheel for wget: filename=wget-3.2-py3-none-any.whl size=9675 sha256=6405ad7bf638852922e9972ab0cc187c7d6931bd992e9c6abe57cc7fe351b9bc\n",
            "  Stored in directory: /root/.cache/pip/wheels/a1/b6/7c/0e63e34eb06634181c63adacca38b79ff8f35c37e3c13e3c02\n",
            "Successfully built wget\n",
            "Installing collected packages: wget\n",
            "Successfully installed wget-3.2\n"
          ]
        }
      ]
    },
    {
      "cell_type": "code",
      "source": [
        "import wget\n",
        "\n",
        "url = \"https://raw.githubusercontent.com/dbdmg/data-science-lab/master/datasets/GLT_filtered.csv\"\n",
        "filename = wget.download(url)"
      ],
      "metadata": {
        "id": "ebFTFW_Jacsy"
      },
      "execution_count": null,
      "outputs": []
    },
    {
      "cell_type": "code",
      "execution_count": null,
      "metadata": {
        "id": "Qlk-e9qWWQOa"
      },
      "outputs": [],
      "source": [
        "import csv \n",
        "\n",
        "col_names = []\n",
        "#since we have 7 features we introduce the dataset as consequence\n",
        "dataset = [[], [], [], [], [], [], []]\n",
        "with open(filename) as fp:\n",
        "  reader = csv.reader(fp)\n",
        "  col_names = next(reader)\n",
        "  for cols in reader: \n",
        "    if len(cols)==len(col_names): #every column must be present\n",
        "      for i in range(len(dataset)):\n",
        "        dataset[i].append(cols[i])"
      ]
    },
    {
      "cell_type": "markdown",
      "source": [
        "Now we can check if everything has been loaded correctly."
      ],
      "metadata": {
        "id": "X_Bk12C8duFp"
      }
    },
    {
      "cell_type": "code",
      "source": [
        "for i in range(5): #printing 5 rows\n",
        "  for j in range(len(dataset)):\n",
        "    print(f'{dataset[j][i]}', end=' ')\n",
        "  print('')"
      ],
      "metadata": {
        "colab": {
          "base_uri": "https://localhost:8080/"
        },
        "id": "QOvGWHBNdyXx",
        "outputId": "dd3060e6-990d-49a9-be80-559ddc028fdd"
      },
      "execution_count": null,
      "outputs": [
        {
          "output_type": "stream",
          "name": "stdout",
          "text": [
            "1849-01-01 26.704 1.435 Abidjan Côte D'Ivoire 5.63N 3.23W \n",
            "1849-02-01 27.434 1.3619999999999999 Abidjan Côte D'Ivoire 5.63N 3.23W \n",
            "1849-03-01   Abidjan Côte D'Ivoire 5.63N 3.23W \n",
            "1849-04-01 26.14 1.3869999999999998 Abidjan Côte D'Ivoire 5.63N 3.23W \n",
            "1849-05-01 25.427 1.2 Abidjan Côte D'Ivoire 5.63N 3.23W \n"
          ]
        }
      ]
    },
    {
      "cell_type": "markdown",
      "source": [
        "Let's check the number of rows within the file."
      ],
      "metadata": {
        "id": "5_zWCneReOlD"
      }
    },
    {
      "cell_type": "code",
      "source": [
        "rows_c = len(dataset[1])\n",
        "rows_c"
      ],
      "metadata": {
        "colab": {
          "base_uri": "https://localhost:8080/"
        },
        "id": "4YLoUCTQeS1z",
        "outputId": "376d956e-0e5b-4cbd-fb12-bb41ca279f2d"
      },
      "execution_count": null,
      "outputs": [
        {
          "output_type": "execute_result",
          "data": {
            "text/plain": [
              "219575"
            ]
          },
          "metadata": {},
          "execution_count": 7
        }
      ]
    },
    {
      "cell_type": "markdown",
      "source": [
        "**Note:** The reader object splits each row and it parses into a list a strings, when a value is missing, an empty string is inserted ' '. \n",
        "\n",
        "Here in this dataset we have almost all nominals features, while there are other two numerical continues attributes: *AverageTemperature* and *AverageTemperatureUncertainty*"
      ],
      "metadata": {
        "id": "jwMpxdLrkNKa"
      }
    },
    {
      "cell_type": "markdown",
      "source": [
        "The aim of this exercise is to *to clean data* searching for anomalies as:\n",
        "\n",
        "\n",
        "*   Missing values\n",
        "*   Outliers\n",
        "\n",
        "\n"
      ],
      "metadata": {
        "id": "QsAFs20zmbrj"
      }
    },
    {
      "cell_type": "markdown",
      "source": [
        "We can analyse how many missing values are within the dataset"
      ],
      "metadata": {
        "id": "OBMKq3Aoqb4d"
      }
    },
    {
      "cell_type": "code",
      "source": [
        "def count_missing(data):\n",
        "  return sum([1 for d in data if d == ''])\n",
        "\n",
        "count = len(dataset[1])\n",
        "\n",
        "print(f'AverageTemperature has: {100*count_missing(dataset[1])/count:.2f}% out of whole dataset')\n",
        "print(f'AverageTemperatureUncertainity has: {100*count_missing(dataset[2])/count:.2f}% out of whole dataset')"
      ],
      "metadata": {
        "colab": {
          "base_uri": "https://localhost:8080/"
        },
        "id": "SlVAbu3_qjTx",
        "outputId": "7cdb8266-f326-4d15-d82e-6e9a5f4395b1"
      },
      "execution_count": null,
      "outputs": [
        {
          "output_type": "stream",
          "name": "stdout",
          "text": [
            "AverageTemperature has: 12.56% out of whole dataset\n",
            "AverageTemperatureUncertainity has: 12.56% out of whole dataset\n"
          ]
        }
      ]
    },
    {
      "cell_type": "markdown",
      "source": [
        "It can be easily seen that the rows in the Dataset are ordered accordingly by City, and then Date.\n",
        "\n",
        "In order to solve the missing values here two approaches are proposed."
      ],
      "metadata": {
        "id": "cSKmN46nrwAs"
      }
    },
    {
      "cell_type": "markdown",
      "source": [
        "**Version 1**"
      ],
      "metadata": {
        "id": "DvWDEhiDk_eU"
      }
    },
    {
      "cell_type": "code",
      "source": [
        "def fill_gaps(data, cities):\n",
        "    right_i = 0\n",
        "    right_v = 0\n",
        "    \n",
        "    for i, value in enumerate(data):\n",
        "        if i == 0 or cities[i] != cities[i-1]:\n",
        "            left_v = 0\n",
        "        else:\n",
        "            left_v = data[i-1]\n",
        "\n",
        "        # reuse the right_v value, useful when there are multiple consecutive missing values\n",
        "        if i < right_i:\n",
        "            data[i] = (left_v + right_v) / 2\n",
        "            continue\n",
        "\n",
        "        if value == '':\n",
        "            for j in range(i+1, len(data)):\n",
        "                if cities[j] != cities[i]: # this check must come before\n",
        "                    right_v = 0\n",
        "                    break\n",
        "                elif data[j] != '':\n",
        "                    right_v = float(data[j])\n",
        "                    break\n",
        "\n",
        "            if i == len(data)-1: # edge case: the last value of the last city is empty\n",
        "                right_v = 0\n",
        "\n",
        "            right_i = j \n",
        "            data[i] = (left_v + right_v) / 2\n",
        "\n",
        "        else:\n",
        "            data[i] = float(data[i]) # parse to float all present values\n"
      ],
      "metadata": {
        "id": "JkxDh15OsXle"
      },
      "execution_count": null,
      "outputs": []
    },
    {
      "cell_type": "markdown",
      "source": [
        "Testing it with a toy example:"
      ],
      "metadata": {
        "id": "lo6x-P7huCYr"
      }
    },
    {
      "cell_type": "code",
      "source": [
        "l = ['', '12', '', '', '', '15', '']\n",
        "c = ['Rome', 'Rome', 'Rome', 'Turin', 'Turin', 'Turin', 'Turin']\n",
        "\n",
        "print('Original list:', l)\n",
        "fill_gaps(l, c)\n",
        "print('Filled list:', l)"
      ],
      "metadata": {
        "colab": {
          "base_uri": "https://localhost:8080/"
        },
        "id": "OHGKJ1YsuFyr",
        "outputId": "4a373550-9ed6-4a0c-bc1b-0f3b0561d89a"
      },
      "execution_count": null,
      "outputs": [
        {
          "output_type": "stream",
          "name": "stdout",
          "text": [
            "Original list: ['', '12', '', '', '', '15', '']\n",
            "Filled list: [6.0, 12.0, 6.0, 7.5, 11.25, 15.0, 7.5]\n"
          ]
        }
      ]
    },
    {
      "cell_type": "code",
      "source": [
        "avg_temp = dataset[1]\n",
        "avg_temp_unc = dataset[2]\n",
        "cities = dataset[3]\n",
        "\n",
        "fill_gaps(avg_temp, cities)\n",
        "fill_gaps(avg_temp_unc, cities)\n",
        "\n",
        "print('Missing values in AverageTemperature:', sum([1 for v in avg_temp if v == '']))\n",
        "print('Missing values in AverageTemperatureUncertainty:', sum([1 for v in avg_temp_unc if v == '']))"
      ],
      "metadata": {
        "colab": {
          "base_uri": "https://localhost:8080/"
        },
        "id": "hXrO79GNuW9a",
        "outputId": "8d1bc6b7-ae6b-4843-c935-80b4d892bb2a"
      },
      "execution_count": null,
      "outputs": [
        {
          "output_type": "stream",
          "name": "stdout",
          "text": [
            "Missing values in AverageTemperature: 0\n",
            "Missing values in AverageTemperatureUncertainty: 0\n"
          ]
        }
      ]
    },
    {
      "cell_type": "markdown",
      "source": [
        "**Version 2**\n"
      ],
      "metadata": {
        "id": "CljGpE9Yucw0"
      }
    },
    {
      "cell_type": "markdown",
      "source": [
        "The main idea is to work on measurements for each city separately. The data structure that helps here is the dictionary (this is true whenever you need to store and access quickly to something by any key value).\n",
        "\n",
        "So, let's extract the distinct cities and count them."
      ],
      "metadata": {
        "id": "7wcECcgVulAG"
      }
    },
    {
      "cell_type": "code",
      "source": [
        "cities = set(dataset[3])\n",
        "print('Number of distinct cities:', len(cities))"
      ],
      "metadata": {
        "colab": {
          "base_uri": "https://localhost:8080/"
        },
        "id": "ufKem28zuhVc",
        "outputId": "d9d4afcc-940b-454a-c95a-bee03221aa7e"
      },
      "execution_count": null,
      "outputs": [
        {
          "output_type": "stream",
          "name": "stdout",
          "text": [
            "Number of distinct cities: 100\n"
          ]
        }
      ]
    },
    {
      "cell_type": "markdown",
      "source": [
        "For each city extract now its associated measurements.\n",
        "\n"
      ],
      "metadata": {
        "id": "WHOUGL6Suprq"
      }
    },
    {
      "cell_type": "code",
      "source": [
        "city_avg_temp = {}\n",
        "city_avg_temp_unc = {}\n",
        "\n",
        "for city in cities:\n",
        "    idxs = [i for i, c in enumerate(dataset[3]) if c == city] # extract the indices\n",
        "    city_avg_temp[city] = [dataset[1][i] for i in idxs]\n",
        "    city_avg_temp_unc[city] = [dataset[2][i] for i in idxs]                                 "
      ],
      "metadata": {
        "id": "D-u8pj1QvEKi"
      },
      "execution_count": null,
      "outputs": []
    },
    {
      "cell_type": "code",
      "source": [
        "def fill_gaps(data):\n",
        "    right_i = 0\n",
        "    right_v = 0\n",
        "    \n",
        "    for i, value in enumerate(data):\n",
        "        left_v = data[i-1] if i != 0 else 0\n",
        "        \n",
        "        # reuse the right_v value, useful when there are multiple consecutive missing values\n",
        "        if i < right_i:\n",
        "            data[i] = (left_v + right_v) / 2\n",
        "            continue\n",
        "\n",
        "        if value == '':\n",
        "            try:\n",
        "                # use a generator to search for the first occurrence \n",
        "                right_i, right_v = next((idx+i+1, float(v)) for idx, v in enumerate(data[i+1:]) if v != '')\n",
        "            except StopIteration: # fired when the generator has no items left to iterate on\n",
        "                right_i = len(data)\n",
        "                right_v = 0\n",
        "            data[i] = (left_v + right_v) / 2\n",
        "        else:\n",
        "            data[i] = float(data[i]) # parse to float all present values"
      ],
      "metadata": {
        "id": "sE6XhCKfuqTa"
      },
      "execution_count": null,
      "outputs": []
    },
    {
      "cell_type": "markdown",
      "source": [
        "We can now test again the function against a toy example and then apply it to our real dataset.\n",
        "\n"
      ],
      "metadata": {
        "id": "_G87qwJ8u0eO"
      }
    },
    {
      "cell_type": "code",
      "source": [
        "l = ['8', '', '3', '', '15', '', '']\n",
        "\n",
        "print('Original list:', l)\n",
        "fill_gaps(l)\n",
        "print('Filled list:', l)"
      ],
      "metadata": {
        "colab": {
          "base_uri": "https://localhost:8080/"
        },
        "id": "Cg8zOJouu2jt",
        "outputId": "01654461-369d-4c89-9bd6-10fd353a3c59"
      },
      "execution_count": null,
      "outputs": [
        {
          "output_type": "stream",
          "name": "stdout",
          "text": [
            "Original list: ['8', '', '3', '', '15', '', '']\n",
            "Filled list: [8.0, 5.5, 3.0, 9.0, 15.0, 7.5, 3.75]\n"
          ]
        }
      ]
    },
    {
      "cell_type": "code",
      "source": [
        "for city in cities:\n",
        "    fill_gaps(city_avg_temp[city])\n",
        "    fill_gaps(city_avg_temp_unc[city])"
      ],
      "metadata": {
        "id": "9OLlfcOVu6Kd"
      },
      "execution_count": null,
      "outputs": []
    },
    {
      "cell_type": "markdown",
      "source": [
        "As you can see, the function itself is more compact and uses a bunch of fundamental Python operators (you are likely going to read about this online as being more pythonic) to search the first following non-empty value: next, the generator `(i, float(v)) for i, v in enumerate(data[i+1:]) if v != '')` and the exeption StopIteration. Moreover, it does not relies on any specific order of the data in the input file, since measurements are associated to cites by means of dictionaries.\n",
        "\n",
        "Nevertheless, each value of both the dictionaries is a copy of the list from set dataset. Hence the memory required is at least twice the one by Version A. Also, the original structure of the dataset has not been changed (`dataset[1] `and `dataset[2]` still contain missing values), since we have worked on different objects, which is not desiderable in certain cases. Major takeaway here: everything comes at a cost, you need to choice where and what to pay."
      ],
      "metadata": {
        "id": "vQtaM25DvK_A"
      }
    },
    {
      "cell_type": "code",
      "source": [
        "def print_hottest_coolest(city, N, city_avg_temp):\n",
        "  srtd = sorted(city_avg_temp[city], reverse=True)\n",
        "  print(f'The top {N} hottest measurements taken in {city} are:', srtd[:N])\n",
        "  print(f'The top {N} coolest measurements taken in {city} are:', srtd[-1:-(N+1):-1])\n"
      ],
      "metadata": {
        "id": "U0Bcq4DtnMur"
      },
      "execution_count": null,
      "outputs": []
    },
    {
      "cell_type": "markdown",
      "source": [
        "A note on the second slice. The notation `[-1:-(N+1):-1]` stands for \"take items\":\n",
        "\n",
        "*   from the last one (-1)\n",
        "*   to the Nth-last one (-(N+1))\n",
        "*   with backward steps (-1)\n"
      ],
      "metadata": {
        "id": "1qAf-kROpPhu"
      }
    },
    {
      "cell_type": "code",
      "source": [
        "print_hottest_coolest('Rome', 3, city_avg_temp)"
      ],
      "metadata": {
        "colab": {
          "base_uri": "https://localhost:8080/"
        },
        "id": "lTM8m44qpO8c",
        "outputId": "50dde5f9-e520-4995-d06d-c174b4e5af1c"
      },
      "execution_count": null,
      "outputs": [
        {
          "output_type": "stream",
          "name": "stdout",
          "text": [
            "The top 3 hottest measurements taken in Rome are: [25.951, 24.998, 24.873]\n",
            "The top 3 coolest measurements taken in Rome are: [-1.4410000000000005, -1.3039999999999994, -1.0189999999999997]\n"
          ]
        }
      ]
    },
    {
      "cell_type": "markdown",
      "source": [
        "*Point 4:* Now we need to search for other anomalies in"
      ],
      "metadata": {
        "id": "nOjtEQJQp6Km"
      }
    },
    {
      "cell_type": "markdown",
      "source": [
        "DATASET N°2. IMDb reviews: it is an online platform that gathers many information regarding movies, tv shows, video games and many more."
      ],
      "metadata": {
        "id": "O4G1ExVzcRyg"
      }
    },
    {
      "cell_type": "code",
      "source": [],
      "metadata": {
        "id": "T3Ex5YUTcHP6"
      },
      "execution_count": null,
      "outputs": []
    }
  ]
}